{
 "cells": [
  {
   "cell_type": "code",
   "execution_count": 55,
   "id": "414b2477-efe5-4abc-bb88-ec923dd08d00",
   "metadata": {},
   "outputs": [],
   "source": [
    "# Importing Libraries\n",
    "import pandas as pd\n",
    "from pandas_profiling import ProfileReport\n",
    "import matplotlib.pyplot as plt\n",
    "%matplotlib inline\n",
    "import seaborn as sns\n",
    "import numpy as np\n",
    "import pandarallel\n",
    "from sklearn.preprocessing import StandardScaler, Normalizer\n",
    "from sklearn.model_selection import train_test_split\n",
    "from sklearn.metrics import mean_absolute_error, mean_squared_error\n",
    "import keras\n",
    "import tensorflow as tf\n",
    "from kerastuner.engine.hyperparameters import HyperParameters\n",
    "from keras.activations import relu\n",
    "from keras.optimizers import RMSprop, Adam\n",
    "from tensorflow.keras.models import Sequential\n",
    "from tensorflow.keras.layers import Dense, ReLU, LeakyReLU, BatchNormalization\n",
    "from tensorflow.keras.layers import Dropout\n",
    "from keras.callbacks import ModelCheckpoint\n",
    "from kerastuner.tuners import RandomSearch, Sklearn\n",
    "from tensorflow.keras.callbacks import EarlyStopping, TensorBoard\n",
    "import math\n",
    "import os"
   ]
  },
  {
   "cell_type": "code",
   "execution_count": 5,
   "id": "0a1d1332-cbba-4a15-9d81-078f61d41449",
   "metadata": {},
   "outputs": [],
   "source": [
    "filename = \"./Final_EDA.csv\""
   ]
  },
  {
   "cell_type": "code",
   "execution_count": 6,
   "id": "e9512f6f-2e10-407c-ba8d-0052a8cb865e",
   "metadata": {},
   "outputs": [],
   "source": [
    "df = pd.read_csv(filename)"
   ]
  },
  {
   "cell_type": "code",
   "execution_count": 7,
   "id": "822a890d-306e-47a9-97e4-f25a207396d5",
   "metadata": {},
   "outputs": [],
   "source": [
    "# Sorting DataFrame by our index before setting it as such\n",
    "# df.sort_values(by=[\"host_since\"], inplace=True, ascending=True)   # host_since is the closest thing to a date or date_time column we have\n",
    "# df.set_index(\"host_since\", inplace=True)"
   ]
  },
  {
   "cell_type": "code",
   "execution_count": 8,
   "id": "a46b3b77-caa2-45e5-ab35-9336ee084223",
   "metadata": {
    "tags": []
   },
   "outputs": [
    {
     "data": {
      "text/html": [
       "<div>\n",
       "<style scoped>\n",
       "    .dataframe tbody tr th:only-of-type {\n",
       "        vertical-align: middle;\n",
       "    }\n",
       "\n",
       "    .dataframe tbody tr th {\n",
       "        vertical-align: top;\n",
       "    }\n",
       "\n",
       "    .dataframe thead th {\n",
       "        text-align: right;\n",
       "    }\n",
       "</style>\n",
       "<table border=\"1\" class=\"dataframe\">\n",
       "  <thead>\n",
       "    <tr style=\"text-align: right;\">\n",
       "      <th></th>\n",
       "      <th>Unnamed: 0</th>\n",
       "      <th>property_type</th>\n",
       "      <th>room_type</th>\n",
       "      <th>accommodates</th>\n",
       "      <th>bathrooms</th>\n",
       "      <th>bed_type</th>\n",
       "      <th>cancellation_policy</th>\n",
       "      <th>cleaning_fee</th>\n",
       "      <th>city</th>\n",
       "      <th>host_identity_verified</th>\n",
       "      <th>host_since</th>\n",
       "      <th>instant_bookable</th>\n",
       "      <th>review_scores_rating</th>\n",
       "      <th>zipcode</th>\n",
       "      <th>bedrooms</th>\n",
       "      <th>beds</th>\n",
       "      <th>price</th>\n",
       "    </tr>\n",
       "  </thead>\n",
       "  <tbody>\n",
       "    <tr>\n",
       "      <th>0</th>\n",
       "      <td>54511</td>\n",
       "      <td>0</td>\n",
       "      <td>0</td>\n",
       "      <td>8</td>\n",
       "      <td>2</td>\n",
       "      <td>4</td>\n",
       "      <td>2</td>\n",
       "      <td>1</td>\n",
       "      <td>0</td>\n",
       "      <td>1</td>\n",
       "      <td>16115</td>\n",
       "      <td>1</td>\n",
       "      <td>100</td>\n",
       "      <td>2108</td>\n",
       "      <td>4</td>\n",
       "      <td>4</td>\n",
       "      <td>259.0</td>\n",
       "    </tr>\n",
       "    <tr>\n",
       "      <th>1</th>\n",
       "      <td>20313</td>\n",
       "      <td>0</td>\n",
       "      <td>0</td>\n",
       "      <td>4</td>\n",
       "      <td>1</td>\n",
       "      <td>4</td>\n",
       "      <td>2</td>\n",
       "      <td>1</td>\n",
       "      <td>0</td>\n",
       "      <td>0</td>\n",
       "      <td>15786</td>\n",
       "      <td>1</td>\n",
       "      <td>89</td>\n",
       "      <td>2108</td>\n",
       "      <td>1</td>\n",
       "      <td>2</td>\n",
       "      <td>89.0</td>\n",
       "    </tr>\n",
       "    <tr>\n",
       "      <th>2</th>\n",
       "      <td>68172</td>\n",
       "      <td>0</td>\n",
       "      <td>0</td>\n",
       "      <td>2</td>\n",
       "      <td>1</td>\n",
       "      <td>4</td>\n",
       "      <td>0</td>\n",
       "      <td>1</td>\n",
       "      <td>0</td>\n",
       "      <td>0</td>\n",
       "      <td>16347</td>\n",
       "      <td>1</td>\n",
       "      <td>87</td>\n",
       "      <td>2108</td>\n",
       "      <td>1</td>\n",
       "      <td>1</td>\n",
       "      <td>225.0</td>\n",
       "    </tr>\n",
       "    <tr>\n",
       "      <th>3</th>\n",
       "      <td>62506</td>\n",
       "      <td>0</td>\n",
       "      <td>0</td>\n",
       "      <td>3</td>\n",
       "      <td>1</td>\n",
       "      <td>4</td>\n",
       "      <td>2</td>\n",
       "      <td>1</td>\n",
       "      <td>0</td>\n",
       "      <td>1</td>\n",
       "      <td>15554</td>\n",
       "      <td>1</td>\n",
       "      <td>87</td>\n",
       "      <td>2108</td>\n",
       "      <td>1</td>\n",
       "      <td>1</td>\n",
       "      <td>185.0</td>\n",
       "    </tr>\n",
       "    <tr>\n",
       "      <th>4</th>\n",
       "      <td>56709</td>\n",
       "      <td>0</td>\n",
       "      <td>0</td>\n",
       "      <td>2</td>\n",
       "      <td>1</td>\n",
       "      <td>4</td>\n",
       "      <td>1</td>\n",
       "      <td>0</td>\n",
       "      <td>0</td>\n",
       "      <td>1</td>\n",
       "      <td>16279</td>\n",
       "      <td>0</td>\n",
       "      <td>91</td>\n",
       "      <td>2108</td>\n",
       "      <td>1</td>\n",
       "      <td>1</td>\n",
       "      <td>199.0</td>\n",
       "    </tr>\n",
       "  </tbody>\n",
       "</table>\n",
       "</div>"
      ],
      "text/plain": [
       "   Unnamed: 0  property_type  room_type  accommodates  bathrooms  bed_type  \\\n",
       "0       54511              0          0             8          2         4   \n",
       "1       20313              0          0             4          1         4   \n",
       "2       68172              0          0             2          1         4   \n",
       "3       62506              0          0             3          1         4   \n",
       "4       56709              0          0             2          1         4   \n",
       "\n",
       "   cancellation_policy  cleaning_fee  city  host_identity_verified  \\\n",
       "0                    2             1     0                       1   \n",
       "1                    2             1     0                       0   \n",
       "2                    0             1     0                       0   \n",
       "3                    2             1     0                       1   \n",
       "4                    1             0     0                       1   \n",
       "\n",
       "   host_since  instant_bookable  review_scores_rating  zipcode  bedrooms  \\\n",
       "0       16115                 1                   100     2108         4   \n",
       "1       15786                 1                    89     2108         1   \n",
       "2       16347                 1                    87     2108         1   \n",
       "3       15554                 1                    87     2108         1   \n",
       "4       16279                 0                    91     2108         1   \n",
       "\n",
       "   beds  price  \n",
       "0     4  259.0  \n",
       "1     2   89.0  \n",
       "2     1  225.0  \n",
       "3     1  185.0  \n",
       "4     1  199.0  "
      ]
     },
     "execution_count": 8,
     "metadata": {},
     "output_type": "execute_result"
    }
   ],
   "source": [
    "df.head()"
   ]
  },
  {
   "cell_type": "code",
   "execution_count": 9,
   "id": "8f43528e-47be-4d39-96c0-4c5ea8a2342b",
   "metadata": {},
   "outputs": [],
   "source": [
    "df.drop(columns=\"Unnamed: 0\", inplace=True)"
   ]
  },
  {
   "cell_type": "code",
   "execution_count": 10,
   "id": "6f7794eb-cac5-4110-94c7-afe3a7d70880",
   "metadata": {},
   "outputs": [
    {
     "data": {
      "text/plain": [
       "(38499, 16)"
      ]
     },
     "execution_count": 10,
     "metadata": {},
     "output_type": "execute_result"
    }
   ],
   "source": [
    "df.shape"
   ]
  },
  {
   "cell_type": "code",
   "execution_count": 11,
   "id": "d43835e2-9a3f-4f1a-97d8-51a47ed0ada6",
   "metadata": {},
   "outputs": [
    {
     "data": {
      "text/plain": [
       "property_type               int64\n",
       "room_type                   int64\n",
       "accommodates                int64\n",
       "bathrooms                   int64\n",
       "bed_type                    int64\n",
       "cancellation_policy         int64\n",
       "cleaning_fee                int64\n",
       "city                        int64\n",
       "host_identity_verified      int64\n",
       "host_since                  int64\n",
       "instant_bookable            int64\n",
       "review_scores_rating        int64\n",
       "zipcode                     int64\n",
       "bedrooms                    int64\n",
       "beds                        int64\n",
       "price                     float64\n",
       "dtype: object"
      ]
     },
     "execution_count": 11,
     "metadata": {},
     "output_type": "execute_result"
    }
   ],
   "source": [
    "df.dtypes"
   ]
  },
  {
   "cell_type": "code",
   "execution_count": 12,
   "id": "50ce3b36-3b14-4d7c-a4ff-a51c3cf72d96",
   "metadata": {},
   "outputs": [],
   "source": [
    "# Splitting data into target and feature matrix\n",
    "target = 'price'\n",
    "X = df.drop(columns=target)\n",
    "y = df[target]"
   ]
  },
  {
   "cell_type": "code",
   "execution_count": 13,
   "id": "e889e100-f4d9-46eb-8f8c-7bd30acac6f6",
   "metadata": {},
   "outputs": [],
   "source": [
    "# Sanity Check\n",
    "assert len(X) == len(y)"
   ]
  },
  {
   "cell_type": "code",
   "execution_count": 14,
   "id": "55d16efc-da3d-4ecf-ad1d-3b797886eef2",
   "metadata": {},
   "outputs": [
    {
     "data": {
      "text/plain": [
       "property_type             int64\n",
       "room_type                 int64\n",
       "accommodates              int64\n",
       "bathrooms                 int64\n",
       "bed_type                  int64\n",
       "cancellation_policy       int64\n",
       "cleaning_fee              int64\n",
       "city                      int64\n",
       "host_identity_verified    int64\n",
       "host_since                int64\n",
       "instant_bookable          int64\n",
       "review_scores_rating      int64\n",
       "zipcode                   int64\n",
       "bedrooms                  int64\n",
       "beds                      int64\n",
       "dtype: object"
      ]
     },
     "execution_count": 14,
     "metadata": {},
     "output_type": "execute_result"
    }
   ],
   "source": [
    "X.dtypes"
   ]
  },
  {
   "cell_type": "code",
   "execution_count": 15,
   "id": "412ddc44-43f7-4489-a706-44196da2a315",
   "metadata": {
    "tags": []
   },
   "outputs": [
    {
     "name": "stdout",
     "output_type": "stream",
     "text": [
      "       property_type  room_type  accommodates  bathrooms  bed_type  \\\n",
      "0                  0          0             8          2         4   \n",
      "1                  0          0             4          1         4   \n",
      "2                  0          0             2          1         4   \n",
      "3                  0          0             3          1         4   \n",
      "4                  0          0             2          1         4   \n",
      "...              ...        ...           ...        ...       ...   \n",
      "38494              0          1             2          1         4   \n",
      "38495              0          1             3          1         4   \n",
      "38496              0          0             2          1         4   \n",
      "38497              0          1             1          1         4   \n",
      "38498              0          1             4          1         4   \n",
      "\n",
      "       cancellation_policy  cleaning_fee  city  host_identity_verified  \\\n",
      "0                        2             1     0                       1   \n",
      "1                        2             1     0                       0   \n",
      "2                        0             1     0                       0   \n",
      "3                        2             1     0                       1   \n",
      "4                        1             0     0                       1   \n",
      "...                    ...           ...   ...                     ...   \n",
      "38494                    2             1     5                       1   \n",
      "38495                    2             1     5                       1   \n",
      "38496                    2             1     5                       0   \n",
      "38497                    2             0     5                       1   \n",
      "38498                    2             1     5                       0   \n",
      "\n",
      "       host_since  instant_bookable  review_scores_rating  zipcode  bedrooms  \\\n",
      "0           16115                 1                   100     2108         4   \n",
      "1           15786                 1                    89     2108         1   \n",
      "2           16347                 1                    87     2108         1   \n",
      "3           15554                 1                    87     2108         1   \n",
      "4           16279                 0                    91     2108         1   \n",
      "...           ...               ...                   ...      ...       ...   \n",
      "38494       16523                 0                    96    94158         1   \n",
      "38495       15825                 0                    98    94158         1   \n",
      "38496       17193                 1                    97    94158         0   \n",
      "38497       16523                 1                    97    94158         1   \n",
      "38498       15502                 1                    98    94158         1   \n",
      "\n",
      "       beds  \n",
      "0         4  \n",
      "1         2  \n",
      "2         1  \n",
      "3         1  \n",
      "4         1  \n",
      "...     ...  \n",
      "38494     1  \n",
      "38495     1  \n",
      "38496     1  \n",
      "38497     1  \n",
      "38498     2  \n",
      "\n",
      "[38499 rows x 15 columns]\n"
     ]
    }
   ],
   "source": [
    "print(X)"
   ]
  },
  {
   "cell_type": "code",
   "execution_count": 16,
   "id": "7715d3d9-6451-4b10-a22e-688b50ea77b7",
   "metadata": {
    "tags": []
   },
   "outputs": [],
   "source": [
    "# Standardizating data\n",
    "# X_scaled = StandardScaler().fit_transform(X)"
   ]
  },
  {
   "cell_type": "code",
   "execution_count": 17,
   "id": "92784cf7-3b4f-4ac7-9267-cf5e0d311d26",
   "metadata": {},
   "outputs": [],
   "source": [
    "X_train, X_test, y_train, y_test = train_test_split(X, y, test_size=0.4, random_state=42)"
   ]
  },
  {
   "cell_type": "code",
   "execution_count": 18,
   "id": "c6307411-d6fe-4ec9-8c9d-c01b1a40a6bc",
   "metadata": {},
   "outputs": [],
   "source": [
    "X_test, X_val, y_test, y_val = train_test_split(X_test, y_test, test_size=0.38, random_state=42)"
   ]
  },
  {
   "cell_type": "code",
   "execution_count": 19,
   "id": "7fa14118-71d6-4cb6-b2f0-cfc80bae255e",
   "metadata": {},
   "outputs": [
    {
     "data": {
      "text/plain": [
       "True"
      ]
     },
     "execution_count": 19,
     "metadata": {},
     "output_type": "execute_result"
    }
   ],
   "source": [
    "# Sanity Checks\n",
    "len(X_train) == len(y_train)\n",
    "len(X_val) == len(y_val)\n",
    "len(X_test) == len(y_test)"
   ]
  },
  {
   "cell_type": "code",
   "execution_count": 20,
   "id": "8440e653-24b7-4f02-afaf-02b77f6b6960",
   "metadata": {},
   "outputs": [
    {
     "name": "stdout",
     "output_type": "stream",
     "text": [
      "Number of Rows for Training Set:  23099\n",
      "Number of Rows for Validation Set:  5852\n",
      "Number of Rows for Testing Set:  9548\n"
     ]
    }
   ],
   "source": [
    "print(\"Number of Rows for Training Set: \", len(X_train))\n",
    "print(\"Number of Rows for Validation Set: \", len(X_val))\n",
    "print(\"Number of Rows for Testing Set: \", len(X_test))\n",
    "# The validation set is smaller than the testing set. This is why I have the second train_test_split in\n",
    "# an odd arrangement, had to make sure val was smaller than test"
   ]
  },
  {
   "cell_type": "code",
   "execution_count": 21,
   "id": "a223ce59-d73e-4c25-adee-733753829e0c",
   "metadata": {},
   "outputs": [
    {
     "name": "stdout",
     "output_type": "stream",
     "text": [
      "Baseline MAE: 79.97292301694209\n"
     ]
    }
   ],
   "source": [
    "# Regression Baseline\n",
    "y_pred = [y_train.mean()] * len(y_train)\n",
    "\n",
    "baseline_mae = mean_absolute_error(y_train, y_pred)\n",
    "print('Baseline MAE:', baseline_mae)"
   ]
  },
  {
   "cell_type": "markdown",
   "id": "16fa596d-51da-4013-9d04-8af3563b2b1c",
   "metadata": {},
   "source": [
    "## Building Our Model"
   ]
  },
  {
   "cell_type": "code",
   "execution_count": 49,
   "id": "87f898e2-488a-41fd-8835-9f93e7ee505c",
   "metadata": {},
   "outputs": [],
   "source": [
    "# get dim of image row vectors and save to imput_dim\n",
    "imput_dim = X_train.shape[1]"
   ]
  },
  {
   "cell_type": "code",
   "execution_count": 23,
   "id": "51e716f0-a4cc-495d-b411-ba53648e9661",
   "metadata": {},
   "outputs": [],
   "source": [
    "def build_regression_model(hp):\n",
    "    \n",
    "    \"\"\"\n",
    "    Returns a complied keras model ready for keras-tuner gridsearch algorithms \n",
    "    \"\"\"\n",
    "    \n",
    "    model = Sequential()\n",
    "    \n",
    "    # 1st hidden layer\n",
    "    model.add(Dense(input_dim=imput_dim,\n",
    "                    units=hp.get('units'),\n",
    "                    activation=hp.get(\"activation\")))\n",
    "    \n",
    "    # 2nd hidden layer \n",
    "    model.add(Dense(units=hp.get('units'),\n",
    "                    activation=hp.get(\"activation\")))\n",
    "    \n",
    "    # 3rd hidden layer \n",
    "    model.add(Dense(units=hp.get('units'),\n",
    "                    activation=hp.get(\"activation\")))\n",
    "    \n",
    "    # output layer\n",
    "    model.add(Dense(1, activation='relu'))\n",
    "    \n",
    "    model.compile(\n",
    "        optimizer=tf.keras.optimizers.RMSprop(hp.get('learning_rate')),\n",
    "        loss='mse',\n",
    "        metrics=['mae'])\n",
    "    \n",
    "    return model"
   ]
  },
  {
   "cell_type": "code",
   "execution_count": 24,
   "id": "7dc9550f-8d2a-4d41-bd01-4d30fb244687",
   "metadata": {},
   "outputs": [
    {
     "data": {
      "text/plain": [
       "'linear'"
      ]
     },
     "execution_count": 24,
     "metadata": {},
     "output_type": "execute_result"
    }
   ],
   "source": [
    "# build out our hyperparameter dictionary \n",
    "hp = HyperParameters()\n",
    "hp.Int('units', min_value=32, max_value=512, step=32)\n",
    "hp.Choice('learning_rate',values=[1e-1, 1e-2, 1e-3])\n",
    "hp.Choice('activation',values=[\"linear\", \"relu\"])"
   ]
  },
  {
   "cell_type": "code",
   "execution_count": 25,
   "id": "fdbcd290-e755-4479-9322-1586615d0ab5",
   "metadata": {},
   "outputs": [],
   "source": [
    "n_unique_hparam_combos = len(range(32,512+32, 32)) * 3 *2\n",
    "n_param_combos_to_sample = n_unique_hparam_combos * .25"
   ]
  },
  {
   "cell_type": "code",
   "execution_count": 26,
   "id": "d77690ef-c695-4081-a0c0-7f8f31444d4f",
   "metadata": {},
   "outputs": [],
   "source": [
    "random_tuner = RandomSearch(\n",
    "            build_regression_model,\n",
    "            objective='val_mae',\n",
    "            max_trials=n_param_combos_to_sample, # number of times to sample the parameter set and build a model \n",
    "            seed=1234,\n",
    "            hyperparameters=hp, # pass in our hyperparameter dictionary\n",
    "            directory='./keras-tuner-trial',\n",
    "            project_name='random_search')"
   ]
  },
  {
   "cell_type": "code",
   "execution_count": 27,
   "id": "7667eded-e499-4877-9248-0595c66eb937",
   "metadata": {},
   "outputs": [
    {
     "name": "stdout",
     "output_type": "stream",
     "text": [
      "Trial 24 Complete [00h 00m 16s]\n",
      "val_mae: 146.27255249023438\n",
      "\n",
      "Best val_mae So Far: 146.27255249023438\n",
      "Total elapsed time: 00h 07m 49s\n",
      "INFO:tensorflow:Oracle triggered exit\n"
     ]
    }
   ],
   "source": [
    "# take note of Total elapsed time in print out\n",
    "random_tuner.search(X_train,\n",
    "                    y_train,\n",
    "                    epochs=10,\n",
    "                    validation_data=(X_val, y_val))"
   ]
  },
  {
   "cell_type": "code",
   "execution_count": 28,
   "id": "8fd32a49-5680-41da-a859-2d430d35dd9c",
   "metadata": {},
   "outputs": [
    {
     "name": "stdout",
     "output_type": "stream",
     "text": [
      "Results summary\n",
      "Results in ./keras-tuner-trial/random_search\n",
      "Showing 10 best trials\n",
      "Objective(name='val_mae', direction='min')\n",
      "Trial summary\n",
      "Hyperparameters:\n",
      "units: 480\n",
      "learning_rate: 0.001\n",
      "activation: relu\n",
      "Score: 146.27255249023438\n",
      "Trial summary\n",
      "Hyperparameters:\n",
      "units: 96\n",
      "learning_rate: 0.1\n",
      "activation: linear\n",
      "Score: 146.27255249023438\n",
      "Trial summary\n",
      "Hyperparameters:\n",
      "units: 352\n",
      "learning_rate: 0.001\n",
      "activation: linear\n",
      "Score: 146.27255249023438\n",
      "Trial summary\n",
      "Hyperparameters:\n",
      "units: 384\n",
      "learning_rate: 0.01\n",
      "activation: linear\n",
      "Score: 146.27255249023438\n",
      "Trial summary\n",
      "Hyperparameters:\n",
      "units: 288\n",
      "learning_rate: 0.1\n",
      "activation: linear\n",
      "Score: 146.27255249023438\n",
      "Trial summary\n",
      "Hyperparameters:\n",
      "units: 416\n",
      "learning_rate: 0.001\n",
      "activation: relu\n",
      "Score: 146.27255249023438\n",
      "Trial summary\n",
      "Hyperparameters:\n",
      "units: 224\n",
      "learning_rate: 0.001\n",
      "activation: relu\n",
      "Score: 146.27255249023438\n",
      "Trial summary\n",
      "Hyperparameters:\n",
      "units: 96\n",
      "learning_rate: 0.01\n",
      "activation: linear\n",
      "Score: 146.27255249023438\n",
      "Trial summary\n",
      "Hyperparameters:\n",
      "units: 64\n",
      "learning_rate: 0.1\n",
      "activation: linear\n",
      "Score: 146.27255249023438\n",
      "Trial summary\n",
      "Hyperparameters:\n",
      "units: 64\n",
      "learning_rate: 0.1\n",
      "activation: relu\n",
      "Score: 146.27255249023438\n"
     ]
    }
   ],
   "source": [
    "# identify the best score and hyperparamter (should be at the top since scores are ranked)\n",
    "random_tuner.results_summary()"
   ]
  },
  {
   "cell_type": "markdown",
   "id": "3892e6bd-08c0-4517-9c58-8e6e8beef469",
   "metadata": {},
   "source": [
    "# Trial summary\n",
    "\n",
    "\n",
    "## Hyperparameters:\n",
    "\n",
    "*units:* **480**\n",
    "\n",
    "*learning_rate:* **0.001**\n",
    "\n",
    "*activation:* **relu**\n",
    "\n",
    "---\n",
    "*Score:* **146.27255249023438**"
   ]
  },
  {
   "cell_type": "code",
   "execution_count": 56,
   "id": "2762ebc7-da89-4611-b55c-c98e56cfab66",
   "metadata": {},
   "outputs": [],
   "source": [
    "## Building model created from inspiration from another classmate\n",
    "\n",
    "# Instantiating Model\n",
    "model = Sequential()\n",
    "\n",
    "# First Hidden Layer\n",
    "model.add(Dense(1024, input_dim = imput_dim))    # Input layer\n",
    "model.add(LeakyReLU(alpha=0.05))\n",
    "model.add(BatchNormalization())\n",
    "model.add(Dropout(0.5))\n",
    "\n",
    "model.add(Dense(512))\n",
    "model.add(LeakyReLU(alpha=0.05))\n",
    "model.add(BatchNormalization())\n",
    "model.add(Dropout(0.5))\n",
    "\n",
    "model.add(Dense(512))\n",
    "model.add(LeakyReLU(alpha=0.05))\n",
    "model.add(BatchNormalization())\n",
    "model.add(Dropout(0.3))\n",
    "\n",
    "model.add(Dense(256,))\n",
    "model.add(LeakyReLU(alpha=0.05))\n",
    "model.add(BatchNormalization())\n",
    "model.add(Dropout(0.3))\n",
    "\n",
    "model.add(Dense(256))\n",
    "model.add(LeakyReLU(alpha=0.05))\n",
    "model.add(BatchNormalization())\n",
    "model.add(Dropout(0.1))\n",
    "\n",
    "model.add(Dense(128, activation='relu'))\n",
    "\n",
    "# Output layer\n",
    "model.add(Dense(1, activation=\"linear\"))\n",
    "\n",
    "model.compile(optimizer=Adam(lr=0.005, decay=5e-4), loss='mse')"
   ]
  },
  {
   "cell_type": "code",
   "execution_count": 69,
   "id": "79003687-75f5-495a-aa9a-7545f18bd796",
   "metadata": {},
   "outputs": [
    {
     "name": "stdout",
     "output_type": "stream",
     "text": [
      "Model: \"sequential_7\"\n",
      "_________________________________________________________________\n",
      "Layer (type)                 Output Shape              Param #   \n",
      "=================================================================\n",
      "dense_23 (Dense)             (None, 1024)              16384     \n",
      "_________________________________________________________________\n",
      "leaky_re_lu_5 (LeakyReLU)    (None, 1024)              0         \n",
      "_________________________________________________________________\n",
      "batch_normalization_5 (Batch (None, 1024)              4096      \n",
      "_________________________________________________________________\n",
      "dropout_5 (Dropout)          (None, 1024)              0         \n",
      "_________________________________________________________________\n",
      "dense_24 (Dense)             (None, 512)               524800    \n",
      "_________________________________________________________________\n",
      "leaky_re_lu_6 (LeakyReLU)    (None, 512)               0         \n",
      "_________________________________________________________________\n",
      "batch_normalization_6 (Batch (None, 512)               2048      \n",
      "_________________________________________________________________\n",
      "dropout_6 (Dropout)          (None, 512)               0         \n",
      "_________________________________________________________________\n",
      "dense_25 (Dense)             (None, 512)               262656    \n",
      "_________________________________________________________________\n",
      "leaky_re_lu_7 (LeakyReLU)    (None, 512)               0         \n",
      "_________________________________________________________________\n",
      "batch_normalization_7 (Batch (None, 512)               2048      \n",
      "_________________________________________________________________\n",
      "dropout_7 (Dropout)          (None, 512)               0         \n",
      "_________________________________________________________________\n",
      "dense_26 (Dense)             (None, 256)               131328    \n",
      "_________________________________________________________________\n",
      "leaky_re_lu_8 (LeakyReLU)    (None, 256)               0         \n",
      "_________________________________________________________________\n",
      "batch_normalization_8 (Batch (None, 256)               1024      \n",
      "_________________________________________________________________\n",
      "dropout_8 (Dropout)          (None, 256)               0         \n",
      "_________________________________________________________________\n",
      "dense_27 (Dense)             (None, 256)               65792     \n",
      "_________________________________________________________________\n",
      "leaky_re_lu_9 (LeakyReLU)    (None, 256)               0         \n",
      "_________________________________________________________________\n",
      "batch_normalization_9 (Batch (None, 256)               1024      \n",
      "_________________________________________________________________\n",
      "dropout_9 (Dropout)          (None, 256)               0         \n",
      "_________________________________________________________________\n",
      "dense_28 (Dense)             (None, 128)               32896     \n",
      "_________________________________________________________________\n",
      "dense_29 (Dense)             (None, 1)                 129       \n",
      "=================================================================\n",
      "Total params: 1,044,225\n",
      "Trainable params: 1,039,105\n",
      "Non-trainable params: 5,120\n",
      "_________________________________________________________________\n"
     ]
    }
   ],
   "source": [
    "model.summary()"
   ]
  },
  {
   "cell_type": "code",
   "execution_count": 63,
   "id": "d66f98cf-5f4c-4694-b883-0d8c0aa02796",
   "metadata": {
    "tags": []
   },
   "outputs": [
    {
     "name": "stdout",
     "output_type": "stream",
     "text": [
      "Epoch 1/150\n",
      "181/181 [==============================] - 3s 18ms/step - loss: 8797.5283 - val_loss: 8250.2393\n",
      "Epoch 2/150\n",
      "181/181 [==============================] - 3s 17ms/step - loss: 8686.6787 - val_loss: 8444.6846\n",
      "Epoch 3/150\n",
      "181/181 [==============================] - 3s 17ms/step - loss: 8718.5332 - val_loss: 8507.5957\n",
      "Epoch 4/150\n",
      "181/181 [==============================] - 3s 17ms/step - loss: 8719.3984 - val_loss: 9484.0166\n",
      "Epoch 5/150\n",
      "181/181 [==============================] - 3s 17ms/step - loss: 8751.0625 - val_loss: 8211.4541\n",
      "Epoch 6/150\n",
      "181/181 [==============================] - 3s 17ms/step - loss: 8737.4600 - val_loss: 8436.1846\n",
      "Epoch 7/150\n",
      "181/181 [==============================] - 3s 16ms/step - loss: 8786.9609 - val_loss: 8647.6699\n",
      "Epoch 8/150\n",
      "181/181 [==============================] - 3s 17ms/step - loss: 8735.1865 - val_loss: 8160.0884\n",
      "Epoch 9/150\n",
      "181/181 [==============================] - 3s 17ms/step - loss: 8716.2090 - val_loss: 8500.2119\n",
      "Epoch 10/150\n",
      "181/181 [==============================] - 3s 17ms/step - loss: 8544.6797 - val_loss: 8835.3008\n",
      "Epoch 11/150\n",
      "181/181 [==============================] - 3s 17ms/step - loss: 8740.2236 - val_loss: 8595.5938\n",
      "Epoch 12/150\n",
      "181/181 [==============================] - 3s 17ms/step - loss: 8697.9766 - val_loss: 9361.1123\n",
      "Epoch 13/150\n",
      "181/181 [==============================] - 3s 17ms/step - loss: 8740.1426 - val_loss: 8605.0947\n",
      "Epoch 14/150\n",
      "181/181 [==============================] - 3s 17ms/step - loss: 8578.7344 - val_loss: 9090.7871\n",
      "Epoch 15/150\n",
      "181/181 [==============================] - 3s 17ms/step - loss: 8646.0967 - val_loss: 9711.3457\n",
      "Epoch 16/150\n",
      "181/181 [==============================] - 3s 17ms/step - loss: 8910.4590 - val_loss: 8306.1465\n",
      "Epoch 17/150\n",
      "181/181 [==============================] - 3s 17ms/step - loss: 8723.3057 - val_loss: 8025.5117\n",
      "Epoch 18/150\n",
      "181/181 [==============================] - 3s 17ms/step - loss: 8673.1240 - val_loss: 8903.7344\n",
      "Epoch 19/150\n",
      "181/181 [==============================] - 3s 17ms/step - loss: 8653.5107 - val_loss: 8362.0439\n",
      "Epoch 20/150\n",
      "181/181 [==============================] - 3s 17ms/step - loss: 8591.3818 - val_loss: 8451.7969\n",
      "Epoch 21/150\n",
      "181/181 [==============================] - 3s 17ms/step - loss: 8689.8926 - val_loss: 8167.7246\n",
      "Epoch 22/150\n",
      "181/181 [==============================] - 3s 17ms/step - loss: 8656.3838 - val_loss: 8221.7891\n",
      "Epoch 23/150\n",
      "181/181 [==============================] - 3s 17ms/step - loss: 8551.0684 - val_loss: 8502.9219\n",
      "Epoch 24/150\n",
      "181/181 [==============================] - 3s 17ms/step - loss: 8642.8701 - val_loss: 8796.0723\n",
      "Epoch 25/150\n",
      "181/181 [==============================] - 3s 17ms/step - loss: 8551.6045 - val_loss: 8031.7524\n",
      "Epoch 26/150\n",
      "181/181 [==============================] - 3s 17ms/step - loss: 8640.8594 - val_loss: 8121.0820\n",
      "Epoch 27/150\n",
      "181/181 [==============================] - 3s 17ms/step - loss: 8617.9521 - val_loss: 8150.8408\n",
      "Epoch 28/150\n",
      "181/181 [==============================] - 3s 17ms/step - loss: 8516.5010 - val_loss: 8839.9854\n",
      "Epoch 29/150\n",
      "181/181 [==============================] - 3s 17ms/step - loss: 8618.6543 - val_loss: 8579.6426\n",
      "Epoch 30/150\n",
      "181/181 [==============================] - 3s 17ms/step - loss: 8558.2598 - val_loss: 10923.6162\n",
      "Epoch 31/150\n",
      "181/181 [==============================] - 3s 17ms/step - loss: 8532.8281 - val_loss: 8289.2861\n",
      "Epoch 32/150\n",
      "181/181 [==============================] - 3s 17ms/step - loss: 8660.8379 - val_loss: 9357.7715\n",
      "Epoch 33/150\n",
      "181/181 [==============================] - 3s 17ms/step - loss: 8500.5518 - val_loss: 8225.9424\n",
      "Epoch 34/150\n",
      "181/181 [==============================] - 3s 17ms/step - loss: 8513.2998 - val_loss: 8874.0420\n",
      "Epoch 35/150\n",
      "181/181 [==============================] - 3s 17ms/step - loss: 8446.9785 - val_loss: 8059.3809\n",
      "Epoch 36/150\n",
      "181/181 [==============================] - 3s 17ms/step - loss: 8619.0566 - val_loss: 8376.1211\n",
      "Epoch 37/150\n",
      "181/181 [==============================] - 3s 17ms/step - loss: 8640.9521 - val_loss: 8069.7588\n",
      "Epoch 38/150\n",
      "181/181 [==============================] - 3s 17ms/step - loss: 8392.5293 - val_loss: 8616.2461\n",
      "Epoch 39/150\n",
      "181/181 [==============================] - 3s 17ms/step - loss: 8490.6572 - val_loss: 8102.8730\n",
      "Epoch 40/150\n",
      "181/181 [==============================] - 3s 17ms/step - loss: 8576.1572 - val_loss: 9451.1309\n",
      "Epoch 41/150\n",
      "181/181 [==============================] - 3s 17ms/step - loss: 8492.6465 - val_loss: 8349.1924\n",
      "Epoch 42/150\n",
      "181/181 [==============================] - 3s 17ms/step - loss: 8408.6885 - val_loss: 8396.2627\n",
      "Epoch 43/150\n",
      "181/181 [==============================] - 3s 17ms/step - loss: 8413.8760 - val_loss: 8030.9248\n",
      "Epoch 44/150\n",
      "181/181 [==============================] - 3s 17ms/step - loss: 8426.5898 - val_loss: 7987.8296\n",
      "Epoch 45/150\n",
      "181/181 [==============================] - 3s 17ms/step - loss: 8635.0996 - val_loss: 8254.3359\n",
      "Epoch 46/150\n",
      "181/181 [==============================] - 3s 17ms/step - loss: 8410.4736 - val_loss: 8537.5029\n",
      "Epoch 47/150\n",
      "181/181 [==============================] - 3s 17ms/step - loss: 8460.3125 - val_loss: 8931.2402\n",
      "Epoch 48/150\n",
      "181/181 [==============================] - 3s 17ms/step - loss: 8372.0039 - val_loss: 8145.5195\n",
      "Epoch 49/150\n",
      "181/181 [==============================] - 3s 17ms/step - loss: 8385.0254 - val_loss: 8487.5889\n",
      "Epoch 50/150\n",
      "181/181 [==============================] - 3s 17ms/step - loss: 8389.6846 - val_loss: 8027.5845\n",
      "Epoch 51/150\n",
      "181/181 [==============================] - 3s 17ms/step - loss: 8431.7178 - val_loss: 8560.7715\n",
      "Epoch 52/150\n",
      "181/181 [==============================] - 3s 17ms/step - loss: 8456.3721 - val_loss: 9733.6641\n",
      "Epoch 53/150\n",
      "181/181 [==============================] - 3s 17ms/step - loss: 8436.9932 - val_loss: 7868.5039\n",
      "Epoch 54/150\n",
      "181/181 [==============================] - 3s 17ms/step - loss: 8397.2900 - val_loss: 7975.9927\n",
      "Epoch 55/150\n",
      "181/181 [==============================] - 3s 17ms/step - loss: 8405.8838 - val_loss: 8960.9014\n",
      "Epoch 56/150\n",
      "181/181 [==============================] - 3s 18ms/step - loss: 8556.1699 - val_loss: 7879.7246\n",
      "Epoch 57/150\n",
      "181/181 [==============================] - 3s 17ms/step - loss: 8407.1279 - val_loss: 8392.9639\n",
      "Epoch 58/150\n",
      "181/181 [==============================] - 3s 17ms/step - loss: 8518.8701 - val_loss: 8117.6377\n",
      "Epoch 59/150\n",
      "181/181 [==============================] - 3s 17ms/step - loss: 8402.5029 - val_loss: 9082.0244\n",
      "Epoch 60/150\n",
      "181/181 [==============================] - 3s 17ms/step - loss: 8459.3594 - val_loss: 8077.7915\n",
      "Epoch 61/150\n",
      "181/181 [==============================] - 3s 17ms/step - loss: 8465.4609 - val_loss: 8314.0186\n",
      "Epoch 62/150\n",
      "181/181 [==============================] - 3s 17ms/step - loss: 8329.1865 - val_loss: 8033.8257\n",
      "Epoch 63/150\n",
      "181/181 [==============================] - 3s 17ms/step - loss: 8381.6973 - val_loss: 7935.7397\n",
      "Epoch 64/150\n",
      "181/181 [==============================] - 3s 17ms/step - loss: 8303.7168 - val_loss: 8074.8154\n",
      "Epoch 65/150\n",
      "181/181 [==============================] - 3s 17ms/step - loss: 8328.8105 - val_loss: 8347.2188\n",
      "Epoch 66/150\n",
      "181/181 [==============================] - 3s 17ms/step - loss: 8361.2490 - val_loss: 8121.7236\n",
      "Epoch 67/150\n",
      "181/181 [==============================] - 3s 17ms/step - loss: 8426.2812 - val_loss: 8076.8867\n",
      "Epoch 68/150\n",
      "181/181 [==============================] - 3s 17ms/step - loss: 8287.9297 - val_loss: 8383.4912\n",
      "Epoch 69/150\n",
      "181/181 [==============================] - 3s 17ms/step - loss: 8415.3438 - val_loss: 8544.3779\n",
      "Epoch 70/150\n",
      "181/181 [==============================] - 3s 17ms/step - loss: 8202.0479 - val_loss: 8484.7031\n",
      "Epoch 71/150\n",
      "181/181 [==============================] - 3s 17ms/step - loss: 8195.4648 - val_loss: 7834.3022\n",
      "Epoch 72/150\n",
      "181/181 [==============================] - 3s 17ms/step - loss: 8269.0557 - val_loss: 8557.4834\n",
      "Epoch 73/150\n",
      "181/181 [==============================] - 3s 17ms/step - loss: 8322.7500 - val_loss: 8061.9233\n",
      "Epoch 74/150\n",
      "181/181 [==============================] - 3s 17ms/step - loss: 8345.7969 - val_loss: 8258.8330\n",
      "Epoch 75/150\n",
      "181/181 [==============================] - 3s 17ms/step - loss: 8260.7969 - val_loss: 7847.3604\n",
      "Epoch 76/150\n",
      "181/181 [==============================] - 3s 17ms/step - loss: 8348.9805 - val_loss: 8131.9849\n",
      "Epoch 77/150\n",
      "181/181 [==============================] - 3s 17ms/step - loss: 8303.5654 - val_loss: 7770.8652\n",
      "Epoch 78/150\n",
      "181/181 [==============================] - 3s 17ms/step - loss: 8194.5596 - val_loss: 8071.8057\n",
      "Epoch 79/150\n",
      "181/181 [==============================] - 3s 17ms/step - loss: 8250.4297 - val_loss: 8034.5747\n",
      "Epoch 80/150\n",
      "181/181 [==============================] - 3s 17ms/step - loss: 8179.9263 - val_loss: 8568.7930\n",
      "Epoch 81/150\n",
      "181/181 [==============================] - 3s 17ms/step - loss: 8329.7012 - val_loss: 8022.7329\n",
      "Epoch 82/150\n",
      "181/181 [==============================] - 3s 17ms/step - loss: 8189.9883 - val_loss: 7715.7432\n",
      "Epoch 83/150\n",
      "181/181 [==============================] - 3s 17ms/step - loss: 8195.1191 - val_loss: 8314.5869\n",
      "Epoch 84/150\n",
      "181/181 [==============================] - 3s 17ms/step - loss: 8129.0112 - val_loss: 8192.6914\n",
      "Epoch 85/150\n",
      "181/181 [==============================] - 3s 17ms/step - loss: 8317.8232 - val_loss: 8430.6699\n",
      "Epoch 86/150\n",
      "181/181 [==============================] - 3s 17ms/step - loss: 8302.0098 - val_loss: 7873.1348\n",
      "Epoch 87/150\n",
      "181/181 [==============================] - 3s 17ms/step - loss: 8128.1475 - val_loss: 8312.8232\n",
      "Epoch 88/150\n",
      "181/181 [==============================] - 3s 17ms/step - loss: 8285.7012 - val_loss: 8353.1367\n",
      "Epoch 89/150\n",
      "181/181 [==============================] - 3s 17ms/step - loss: 8182.9434 - val_loss: 8389.7070\n",
      "Epoch 90/150\n",
      "181/181 [==============================] - 3s 17ms/step - loss: 8107.7739 - val_loss: 7909.5605\n",
      "Epoch 91/150\n",
      "181/181 [==============================] - 3s 17ms/step - loss: 8190.7642 - val_loss: 8092.5010\n",
      "Epoch 92/150\n",
      "181/181 [==============================] - 3s 18ms/step - loss: 8137.5137 - val_loss: 8206.7061\n",
      "Epoch 93/150\n",
      "181/181 [==============================] - 3s 17ms/step - loss: 8236.2383 - val_loss: 7949.2544\n",
      "Epoch 94/150\n",
      "181/181 [==============================] - 3s 17ms/step - loss: 8117.6045 - val_loss: 7813.6548\n",
      "Epoch 95/150\n",
      "181/181 [==============================] - 3s 17ms/step - loss: 8215.0088 - val_loss: 7742.1191\n",
      "Epoch 96/150\n",
      "181/181 [==============================] - 3s 17ms/step - loss: 8182.9238 - val_loss: 8210.6982\n",
      "Epoch 97/150\n",
      "181/181 [==============================] - 3s 18ms/step - loss: 8245.5742 - val_loss: 8185.5254\n",
      "Epoch 98/150\n",
      "181/181 [==============================] - 3s 17ms/step - loss: 8115.0400 - val_loss: 7723.1963\n",
      "Epoch 99/150\n",
      "181/181 [==============================] - 3s 17ms/step - loss: 8165.7158 - val_loss: 8879.9248\n",
      "Epoch 100/150\n",
      "181/181 [==============================] - 3s 17ms/step - loss: 8363.8740 - val_loss: 7879.0732\n",
      "Epoch 101/150\n",
      "181/181 [==============================] - 3s 18ms/step - loss: 8106.0000 - val_loss: 7845.2090\n",
      "Epoch 102/150\n",
      "181/181 [==============================] - 3s 18ms/step - loss: 8141.4980 - val_loss: 8618.5078\n",
      "Epoch 103/150\n",
      "181/181 [==============================] - 3s 18ms/step - loss: 8047.1514 - val_loss: 8406.7598\n",
      "Epoch 104/150\n",
      "181/181 [==============================] - 3s 18ms/step - loss: 8168.4688 - val_loss: 8920.5479\n",
      "Epoch 105/150\n",
      "181/181 [==============================] - 3s 18ms/step - loss: 8070.6670 - val_loss: 8383.8281\n",
      "Epoch 106/150\n",
      "181/181 [==============================] - 3s 18ms/step - loss: 8212.0518 - val_loss: 8146.6030\n",
      "Epoch 107/150\n",
      "181/181 [==============================] - 3s 17ms/step - loss: 8193.0625 - val_loss: 8009.1963\n",
      "Epoch 108/150\n",
      "181/181 [==============================] - 3s 17ms/step - loss: 8202.6523 - val_loss: 8066.2222\n",
      "Epoch 109/150\n",
      "181/181 [==============================] - 3s 17ms/step - loss: 8059.5654 - val_loss: 8016.9863\n",
      "Epoch 110/150\n",
      "181/181 [==============================] - 3s 17ms/step - loss: 8103.6958 - val_loss: 9094.5957\n",
      "Epoch 111/150\n",
      "181/181 [==============================] - 3s 17ms/step - loss: 8203.0928 - val_loss: 8090.1782\n",
      "Epoch 112/150\n",
      "181/181 [==============================] - 3s 17ms/step - loss: 8146.9136 - val_loss: 8344.2949\n",
      "Epoch 113/150\n",
      "181/181 [==============================] - 3s 17ms/step - loss: 8097.1255 - val_loss: 8596.0166\n",
      "Epoch 114/150\n",
      "181/181 [==============================] - 3s 17ms/step - loss: 8060.3467 - val_loss: 8093.5596\n",
      "Epoch 115/150\n",
      "181/181 [==============================] - 3s 17ms/step - loss: 8237.3418 - val_loss: 7843.8223\n",
      "Epoch 116/150\n",
      "181/181 [==============================] - 3s 17ms/step - loss: 8012.9150 - val_loss: 9278.4111\n",
      "Epoch 117/150\n",
      "181/181 [==============================] - 3s 17ms/step - loss: 8137.8560 - val_loss: 7624.1167\n",
      "Epoch 118/150\n",
      "181/181 [==============================] - 3s 17ms/step - loss: 8070.2314 - val_loss: 8681.0762\n",
      "Epoch 119/150\n",
      "181/181 [==============================] - 3s 17ms/step - loss: 8208.7783 - val_loss: 7793.1338\n",
      "Epoch 120/150\n",
      "181/181 [==============================] - 3s 17ms/step - loss: 8245.2686 - val_loss: 8313.1172\n",
      "Epoch 121/150\n",
      "181/181 [==============================] - 3s 17ms/step - loss: 8069.9023 - val_loss: 7693.9766\n",
      "Epoch 122/150\n",
      "181/181 [==============================] - 3s 17ms/step - loss: 8163.5513 - val_loss: 8396.6592\n",
      "Epoch 123/150\n",
      "181/181 [==============================] - 3s 17ms/step - loss: 7873.0459 - val_loss: 7664.5796\n",
      "Epoch 124/150\n",
      "181/181 [==============================] - 3s 17ms/step - loss: 8127.3828 - val_loss: 8561.5225\n",
      "Epoch 125/150\n",
      "181/181 [==============================] - 3s 17ms/step - loss: 8185.1885 - val_loss: 7946.0337\n",
      "Epoch 126/150\n",
      "181/181 [==============================] - 3s 17ms/step - loss: 8060.5454 - val_loss: 7621.0288\n",
      "Epoch 127/150\n",
      "181/181 [==============================] - 3s 17ms/step - loss: 8192.1016 - val_loss: 8536.0332\n",
      "Epoch 128/150\n",
      "181/181 [==============================] - 3s 17ms/step - loss: 8035.6079 - val_loss: 7730.5229\n",
      "Epoch 129/150\n",
      "181/181 [==============================] - 3s 17ms/step - loss: 7936.7856 - val_loss: 7695.0562\n",
      "Epoch 130/150\n",
      "181/181 [==============================] - 3s 17ms/step - loss: 7848.2344 - val_loss: 7581.8149\n",
      "Epoch 131/150\n",
      "181/181 [==============================] - 3s 17ms/step - loss: 8069.4175 - val_loss: 7721.9165\n",
      "Epoch 132/150\n",
      "181/181 [==============================] - 3s 17ms/step - loss: 8021.5537 - val_loss: 7783.2378\n",
      "Epoch 133/150\n",
      "181/181 [==============================] - 3s 17ms/step - loss: 8015.2988 - val_loss: 8449.9189\n",
      "Epoch 134/150\n",
      "181/181 [==============================] - 3s 17ms/step - loss: 7991.2065 - val_loss: 7749.8159\n",
      "Epoch 135/150\n",
      "181/181 [==============================] - 3s 17ms/step - loss: 8039.2441 - val_loss: 7763.9248\n",
      "Epoch 136/150\n",
      "181/181 [==============================] - 3s 17ms/step - loss: 8060.6519 - val_loss: 7902.5063\n",
      "Epoch 137/150\n",
      "181/181 [==============================] - 3s 17ms/step - loss: 8094.7490 - val_loss: 7816.3643\n",
      "Epoch 138/150\n",
      "181/181 [==============================] - 3s 17ms/step - loss: 7980.9785 - val_loss: 7750.1470\n",
      "Epoch 139/150\n",
      "181/181 [==============================] - 3s 17ms/step - loss: 7996.4009 - val_loss: 8661.8115\n",
      "Epoch 140/150\n",
      "181/181 [==============================] - 3s 17ms/step - loss: 7966.8257 - val_loss: 7939.7368\n",
      "Epoch 141/150\n",
      "181/181 [==============================] - 3s 17ms/step - loss: 8175.2319 - val_loss: 7706.8203\n",
      "Epoch 142/150\n",
      "181/181 [==============================] - 3s 17ms/step - loss: 8068.3286 - val_loss: 8413.2197\n",
      "Epoch 143/150\n",
      "181/181 [==============================] - 3s 17ms/step - loss: 8131.3413 - val_loss: 7888.1919\n",
      "Epoch 144/150\n",
      "181/181 [==============================] - 3s 17ms/step - loss: 8172.5181 - val_loss: 8305.5977\n",
      "Epoch 145/150\n",
      "181/181 [==============================] - 3s 17ms/step - loss: 8069.4160 - val_loss: 7763.8433\n",
      "Epoch 146/150\n",
      "181/181 [==============================] - 3s 17ms/step - loss: 7999.8696 - val_loss: 9265.7227\n",
      "Epoch 147/150\n",
      "181/181 [==============================] - 3s 17ms/step - loss: 8146.0259 - val_loss: 7755.8242\n",
      "Epoch 148/150\n",
      "181/181 [==============================] - 3s 17ms/step - loss: 7976.9009 - val_loss: 7582.2788\n",
      "Epoch 149/150\n",
      "181/181 [==============================] - 3s 17ms/step - loss: 8026.6221 - val_loss: 7792.5986\n",
      "Epoch 150/150\n",
      "181/181 [==============================] - 3s 17ms/step - loss: 7981.2783 - val_loss: 7960.6509\n",
      "INFO:tensorflow:Assets written to: leaky_relu_model/assets\n"
     ]
    }
   ],
   "source": [
    "## Model created from inspiration from another classmate\n",
    "\n",
    "history = model.fit(X_train,\n",
    "                    y_train.values,\n",
    "                    validation_data=(X_val,y_val.values),\n",
    "                    batch_size=128,\n",
    "                    epochs=150)\n",
    "\n",
    "model.save('leaky_relu_model')"
   ]
  },
  {
   "cell_type": "code",
   "execution_count": 64,
   "id": "c73ffbdf-6eae-4ca2-9555-65c094a10f31",
   "metadata": {},
   "outputs": [
    {
     "data": {
      "text/plain": [
       "<AxesSubplot:>"
      ]
     },
     "execution_count": 64,
     "metadata": {},
     "output_type": "execute_result"
    },
    {
     "data": {
      "image/png": "[encoded data removed]",
      "text/plain": [
       "<Figure size 432x288 with 1 Axes>"
      ]
     },
     "metadata": {
      "needs_background": "light"
     },
     "output_type": "display_data"
    }
   ],
   "source": [
    "losses = pd.DataFrame(model.history.history)\n",
    "losses.plot()"
   ]
  },
  {
   "cell_type": "code",
   "execution_count": 65,
   "id": "0985776d-8c3d-4b4c-aa8c-ab7457aa4607",
   "metadata": {},
   "outputs": [],
   "source": [
    "# Saving output of our model's predictions\n",
    "predictions = model.predict(X_test)"
   ]
  },
  {
   "cell_type": "code",
   "execution_count": 66,
   "id": "dcd1542a-7fb5-4ecf-b6b5-12ef787c4680",
   "metadata": {},
   "outputs": [
    {
     "data": {
      "text/plain": [
       "51.27827306706685"
      ]
     },
     "execution_count": 66,
     "metadata": {},
     "output_type": "execute_result"
    }
   ],
   "source": [
    "# Our Mean Absolute Error\n",
    "mean_absolute_error(y_test, predictions)"
   ]
  },
  {
   "cell_type": "code",
   "execution_count": 68,
   "id": "8dac378a-ee68-4ebf-93ac-7924d51643f4",
   "metadata": {},
   "outputs": [
    {
     "data": {
      "text/plain": [
       "array([[186.94229],\n",
       "       [198.92773],\n",
       "       [ 68.80703],\n",
       "       ...,\n",
       "       [110.6443 ],\n",
       "       [ 78.9217 ],\n",
       "       [135.75525]], dtype=float32)"
      ]
     },
     "execution_count": 68,
     "metadata": {},
     "output_type": "execute_result"
    }
   ],
   "source": [
    "# Evaluating model's predictive power\n",
    "predictions = model.predict(X_test, batch_size=32)\n",
    "predictions"
   ]
  },
  {
   "cell_type": "code",
   "execution_count": 67,
   "id": "8705005a-0e54-459a-a207-53d9c1e872a7",
   "metadata": {},
   "outputs": [
    {
     "data": {
      "text/plain": [
       "3494      99.0\n",
       "24311    110.0\n",
       "12761     50.0\n",
       "9375     112.0\n",
       "1465     119.0\n",
       "         ...  \n",
       "12135    140.0\n",
       "13468    130.0\n",
       "32132     89.0\n",
       "20233     70.0\n",
       "14657    140.0\n",
       "Name: price, Length: 9548, dtype: float64"
      ]
     },
     "execution_count": 67,
     "metadata": {},
     "output_type": "execute_result"
    }
   ],
   "source": [
    "# Actual prices\n",
    "y_test"
   ]
  },
  {
   "cell_type": "markdown",
   "id": "b94b44ea-2617-4dcd-b885-7bdf4d4954cc",
   "metadata": {},
   "source": [
    "## MY RANDOM SEARCH"
   ]
  },
  {
   "cell_type": "code",
   "execution_count": 50,
   "id": "2c4db6f3-ca24-4229-8cc8-3a0fc13057fb",
   "metadata": {},
   "outputs": [],
   "source": [
    "## Plugging in best params\n",
    "\n",
    "# Instantiating our model's class architecture\n",
    "model = Sequential()\n",
    "    \n",
    "# hidden layer\n",
    "model.add(Dense(140,\n",
    "                input_dim=imput_dim,\n",
    "                activation='relu'))\n",
    "\n",
    "model.add(Dense(280,\n",
    "                activation='relu'))\n",
    "    \n",
    "# output layer\n",
    "model.add(Dense(1,\n",
    "                activation='relu'))\n",
    "\n",
    "# Assigning learning rate to RMSprop optimizer\n",
    "opt = tf.keras.optimizers.RMSprop(learning_rate=0.001)\n",
    "\n",
    "# compiling our model architecture with loss function & corresponding metric\n",
    "model.compile(optimizer=opt,\n",
    "              loss='mse',\n",
    "              metrics=['mae'])"
   ]
  },
  {
   "cell_type": "code",
   "execution_count": 41,
   "id": "36f16f30-bd59-42f1-bdc4-fa6519e97c4f",
   "metadata": {},
   "outputs": [
    {
     "name": "stdout",
     "output_type": "stream",
     "text": [
      "Model: \"sequential_2\"\n",
      "_________________________________________________________________\n",
      "Layer (type)                 Output Shape              Param #   \n",
      "=================================================================\n",
      "dense_9 (Dense)              (None, 140)               2240      \n",
      "_________________________________________________________________\n",
      "dense_10 (Dense)             (None, 280)               39480     \n",
      "_________________________________________________________________\n",
      "dense_11 (Dense)             (None, 1)                 281       \n",
      "=================================================================\n",
      "Total params: 42,001\n",
      "Trainable params: 42,001\n",
      "Non-trainable params: 0\n",
      "_________________________________________________________________\n"
     ]
    }
   ],
   "source": [
    "model.summary()"
   ]
  },
  {
   "cell_type": "code",
   "execution_count": 31,
   "id": "52d833df-1480-4c88-bbde-0339ea9e181a",
   "metadata": {},
   "outputs": [],
   "source": [
    "# Use TensorBoard if you're running this on Colab\n",
    "\n",
    "# %load_ext tensorboard\n",
    "\n",
    "# import os\n",
    "# import datetime\n",
    "\n",
    "# logdir = os.path.join(\"logs\", datetime.datetime.now().strftime(\"%Y%m%d-%H%M%S\"))\n",
    "# tensorboard_callback = tf.keras.callbacks.TensorBoard(logdir, histogram_freq=1)"
   ]
  },
  {
   "cell_type": "code",
   "execution_count": 32,
   "id": "d663fee3-3269-4924-9590-f650c9a6ad85",
   "metadata": {},
   "outputs": [],
   "source": [
    "# Readying our EarlyStop callback\n",
    "stop_callback = EarlyStopping(monitor='val_loss', min_delta=0.0001, patience=5, mode=\"min\")"
   ]
  },
  {
   "cell_type": "code",
   "execution_count": 44,
   "id": "84c2ef47-852d-41c4-8bb7-744a21397daf",
   "metadata": {
    "collapsed": true,
    "jupyter": {
     "outputs_hidden": true
    },
    "tags": []
   },
   "outputs": [
    {
     "name": "stdout",
     "output_type": "stream",
     "text": [
      "Epoch 1/20\n",
      "550/550 [==============================] - 1s 2ms/step - loss: 38802.6836 - mae: 146.0290 - val_loss: 38405.5352 - val_mae: 146.2726\n",
      "Epoch 2/20\n",
      "550/550 [==============================] - 1s 2ms/step - loss: 38802.6602 - mae: 146.0290 - val_loss: 38405.5352 - val_mae: 146.2726\n",
      "Epoch 3/20\n",
      "550/550 [==============================] - 1s 2ms/step - loss: 38802.6797 - mae: 146.0290 - val_loss: 38405.5352 - val_mae: 146.2726\n",
      "Epoch 4/20\n",
      "550/550 [==============================] - 1s 2ms/step - loss: 38802.6562 - mae: 146.0290 - val_loss: 38405.5352 - val_mae: 146.2726\n",
      "Epoch 5/20\n",
      "550/550 [==============================] - 1s 2ms/step - loss: 38802.6758 - mae: 146.0290 - val_loss: 38405.5352 - val_mae: 146.2726\n",
      "Epoch 6/20\n",
      "550/550 [==============================] - 1s 2ms/step - loss: 38802.6562 - mae: 146.0290 - val_loss: 38405.5352 - val_mae: 146.2726\n",
      "Epoch 7/20\n",
      "550/550 [==============================] - 1s 2ms/step - loss: 38802.6289 - mae: 146.0290 - val_loss: 38405.5352 - val_mae: 146.2726\n",
      "Epoch 8/20\n",
      "550/550 [==============================] - 1s 1ms/step - loss: 38802.6836 - mae: 146.0290 - val_loss: 38405.5352 - val_mae: 146.2726\n",
      "Epoch 9/20\n",
      "550/550 [==============================] - 1s 2ms/step - loss: 38802.6367 - mae: 146.0290 - val_loss: 38405.5352 - val_mae: 146.2726\n",
      "Epoch 10/20\n",
      "550/550 [==============================] - 1s 2ms/step - loss: 38802.6484 - mae: 146.0290 - val_loss: 38405.5352 - val_mae: 146.2726\n",
      "Epoch 11/20\n",
      "550/550 [==============================] - 1s 2ms/step - loss: 38802.6602 - mae: 146.0290 - val_loss: 38405.5352 - val_mae: 146.2726\n",
      "Epoch 12/20\n",
      "550/550 [==============================] - 1s 2ms/step - loss: 38802.6758 - mae: 146.0290 - val_loss: 38405.5352 - val_mae: 146.2726\n",
      "Epoch 13/20\n",
      "550/550 [==============================] - 1s 2ms/step - loss: 38802.6562 - mae: 146.0290 - val_loss: 38405.5352 - val_mae: 146.2726\n",
      "Epoch 14/20\n",
      "550/550 [==============================] - 1s 2ms/step - loss: 38802.6602 - mae: 146.0290 - val_loss: 38405.5352 - val_mae: 146.2726\n",
      "Epoch 15/20\n",
      "550/550 [==============================] - 1s 2ms/step - loss: 38802.6445 - mae: 146.0290 - val_loss: 38405.5352 - val_mae: 146.2726\n",
      "Epoch 16/20\n",
      "550/550 [==============================] - 1s 2ms/step - loss: 38802.6836 - mae: 146.0290 - val_loss: 38405.5352 - val_mae: 146.2726\n",
      "Epoch 17/20\n",
      "550/550 [==============================] - 1s 2ms/step - loss: 38802.6836 - mae: 146.0290 - val_loss: 38405.5352 - val_mae: 146.2726\n",
      "Epoch 18/20\n",
      "550/550 [==============================] - 1s 2ms/step - loss: 38802.6562 - mae: 146.0290 - val_loss: 38405.5352 - val_mae: 146.2726\n",
      "Epoch 19/20\n",
      "550/550 [==============================] - 1s 2ms/step - loss: 38802.6562 - mae: 146.0290 - val_loss: 38405.5352 - val_mae: 146.2726\n",
      "Epoch 20/20\n",
      "550/550 [==============================] - 1s 2ms/step - loss: 38802.6797 - mae: 146.0290 - val_loss: 38405.5352 - val_mae: 146.2726\n",
      "INFO:tensorflow:Assets written to: retrained_rs_model/assets\n"
     ]
    }
   ],
   "source": [
    "# Fitting model\n",
    "model.fit(X_train,\n",
    "          y_train,\n",
    "          batch_size=42,\n",
    "          epochs=20,\n",
    "          validation_data=(X_val, y_val))\n",
    "\n",
    "# Save the entire model as a Saved Model.\n",
    "model.save('retrained_rs_model')"
   ]
  },
  {
   "cell_type": "code",
   "execution_count": 34,
   "id": "0eccd5ae-e73f-4056-9bd0-2dc538dfe87b",
   "metadata": {},
   "outputs": [],
   "source": [
    "new_model = tf.keras.models.load_model('retrained_rs_model')"
   ]
  },
  {
   "cell_type": "code",
   "execution_count": 35,
   "id": "0617f89e-ddaf-4bdb-b2c4-3d12cab8e568",
   "metadata": {},
   "outputs": [
    {
     "name": "stdout",
     "output_type": "stream",
     "text": [
      "Model: \"sequential_1\"\n",
      "_________________________________________________________________\n",
      "Layer (type)                 Output Shape              Param #   \n",
      "=================================================================\n",
      "dense_4 (Dense)              (None, 140)               2240      \n",
      "_________________________________________________________________\n",
      "dense_5 (Dense)              (None, 240)               33840     \n",
      "_________________________________________________________________\n",
      "dense_6 (Dense)              (None, 480)               115680    \n",
      "_________________________________________________________________\n",
      "dense_7 (Dense)              (None, 240)               115440    \n",
      "_________________________________________________________________\n",
      "dense_8 (Dense)              (None, 1)                 241       \n",
      "=================================================================\n",
      "Total params: 267,441\n",
      "Trainable params: 267,441\n",
      "Non-trainable params: 0\n",
      "_________________________________________________________________\n"
     ]
    }
   ],
   "source": [
    "new_model.summary()"
   ]
  },
  {
   "cell_type": "code",
   "execution_count": 36,
   "id": "165fd644-9260-4e50-b63a-c65ddcffd27a",
   "metadata": {},
   "outputs": [],
   "source": [
    "# %load_ext tensorboard\n",
    "# %tensorboard --logdir logs"
   ]
  },
  {
   "cell_type": "code",
   "execution_count": 61,
   "id": "517292f1-e946-4682-b258-24dacc0f9215",
   "metadata": {},
   "outputs": [
    {
     "data": {
      "text/plain": [
       "array([[176.80292],\n",
       "       [175.44208],\n",
       "       [ 70.69791],\n",
       "       ...,\n",
       "       [121.52776],\n",
       "       [ 79.25338],\n",
       "       [117.11068]], dtype=float32)"
      ]
     },
     "execution_count": 61,
     "metadata": {},
     "output_type": "execute_result"
    }
   ],
   "source": [
    "# Evaluating model's predictive power\n",
    "predictions = model.predict(X_test, batch_size=32)\n",
    "predictions"
   ]
  },
  {
   "cell_type": "code",
   "execution_count": 62,
   "id": "11041af6-5ba1-4ef5-8721-cc7b61c5929f",
   "metadata": {},
   "outputs": [
    {
     "data": {
      "text/plain": [
       "3494      99.0\n",
       "24311    110.0\n",
       "12761     50.0\n",
       "9375     112.0\n",
       "1465     119.0\n",
       "         ...  \n",
       "12135    140.0\n",
       "13468    130.0\n",
       "32132     89.0\n",
       "20233     70.0\n",
       "14657    140.0\n",
       "Name: price, Length: 9548, dtype: float64"
      ]
     },
     "execution_count": 62,
     "metadata": {},
     "output_type": "execute_result"
    }
   ],
   "source": [
    "# Actual prices\n",
    "y_test"
   ]
  },
  {
   "cell_type": "code",
   "execution_count": null,
   "id": "56fdea58-16e2-4de9-ad4a-e5b22b06c7e6",
   "metadata": {},
   "outputs": [],
   "source": []
  }
 ],
 "metadata": {
  "environment": {
   "name": "common-cpu.m69",
   "type": "gcloud",
   "uri": "gcr.io/deeplearning-platform-release/base-cpu:m69"
  },
  "kernelspec": {
   "display_name": "Python [conda env:root] *",
   "language": "python",
   "name": "conda-root-py"
  },
  "language_info": {
   "codemirror_mode": {
    "name": "ipython",
    "version": 3
   },
   "file_extension": ".py",
   "mimetype": "text/x-python",
   "name": "python",
   "nbconvert_exporter": "python",
   "pygments_lexer": "ipython3",
   "version": "3.7.10"
  },
  "widgets": {
   "application/vnd.jupyter.widget-state+json": {
    "state": {},
    "version_major": 2,
    "version_minor": 0
   }
  }
 },
 "nbformat": 4,
 "nbformat_minor": 5
}
