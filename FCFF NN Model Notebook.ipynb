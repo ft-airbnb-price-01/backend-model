{
 "cells": [
  {
   "cell_type": "code",
   "execution_count": 1,
   "id": "414b2477-efe5-4abc-bb88-ec923dd08d00",
   "metadata": {},
   "outputs": [],
   "source": [
    "# Importing Libraries\n",
    "import pandas as pd\n",
    "from pandas_profiling import ProfileReport\n",
    "import matplotlib.pyplot as plt\n",
    "%matplotlib inline\n",
    "import seaborn as sns\n",
    "import numpy as np\n",
    "import pandarallel\n",
    "from sklearn.preprocessing import StandardScaler, Normalizer\n",
    "from sklearn.model_selection import train_test_split\n",
    "from sklearn.metrics import mean_absolute_error, mean_squared_error\n",
    "import keras\n",
    "import tensorflow as tf\n",
    "from kerastuner.engine.hyperparameters import HyperParameters\n",
    "from keras.activations import relu\n",
    "from keras.optimizers import RMSprop\n",
    "from tensorflow.keras.models import Sequential\n",
    "from tensorflow.keras.layers import Dense, ReLU\n",
    "from kerastuner.tuners import RandomSearch, Sklearn\n",
    "from tensorflow.keras.callbacks import EarlyStopping, TensorBoard\n",
    "import math\n",
    "import os"
   ]
  },
  {
   "cell_type": "code",
   "execution_count": 2,
   "id": "0a1d1332-cbba-4a15-9d81-078f61d41449",
   "metadata": {},
   "outputs": [],
   "source": [
    "filename = \"./EDA Notebook.csv\""
   ]
  },
  {
   "cell_type": "code",
   "execution_count": 3,
   "id": "e9512f6f-2e10-407c-ba8d-0052a8cb865e",
   "metadata": {},
   "outputs": [],
   "source": [
    "df = pd.read_csv(filename)"
   ]
  },
  {
   "cell_type": "code",
   "execution_count": 4,
   "id": "822a890d-306e-47a9-97e4-f25a207396d5",
   "metadata": {},
   "outputs": [],
   "source": [
    "# Sorting DataFrame by our index before setting it as such\n",
    "df.sort_values(by=[\"host_since\"], inplace=True, ascending=True)   # host_since is the closest thing to a date or date_time column we have\n",
    "df.set_index(\"host_since\", inplace=True)"
   ]
  },
  {
   "cell_type": "code",
   "execution_count": 5,
   "id": "a46b3b77-caa2-45e5-ab35-9336ee084223",
   "metadata": {
    "tags": []
   },
   "outputs": [
    {
     "data": {
      "text/html": [
       "<div>\n",
       "<style scoped>\n",
       "    .dataframe tbody tr th:only-of-type {\n",
       "        vertical-align: middle;\n",
       "    }\n",
       "\n",
       "    .dataframe tbody tr th {\n",
       "        vertical-align: top;\n",
       "    }\n",
       "\n",
       "    .dataframe thead th {\n",
       "        text-align: right;\n",
       "    }\n",
       "</style>\n",
       "<table border=\"1\" class=\"dataframe\">\n",
       "  <thead>\n",
       "    <tr style=\"text-align: right;\">\n",
       "      <th></th>\n",
       "      <th>property_type</th>\n",
       "      <th>room_type</th>\n",
       "      <th>accommodates</th>\n",
       "      <th>bathrooms</th>\n",
       "      <th>bed_type</th>\n",
       "      <th>cancellation_policy</th>\n",
       "      <th>cleaning_fee</th>\n",
       "      <th>city</th>\n",
       "      <th>host_identity_verified</th>\n",
       "      <th>instant_bookable</th>\n",
       "      <th>latitude</th>\n",
       "      <th>longitude</th>\n",
       "      <th>name</th>\n",
       "      <th>neighbourhood</th>\n",
       "      <th>review_scores_rating</th>\n",
       "      <th>bedrooms</th>\n",
       "      <th>beds</th>\n",
       "      <th>price</th>\n",
       "    </tr>\n",
       "    <tr>\n",
       "      <th>host_since</th>\n",
       "      <th></th>\n",
       "      <th></th>\n",
       "      <th></th>\n",
       "      <th></th>\n",
       "      <th></th>\n",
       "      <th></th>\n",
       "      <th></th>\n",
       "      <th></th>\n",
       "      <th></th>\n",
       "      <th></th>\n",
       "      <th></th>\n",
       "      <th></th>\n",
       "      <th></th>\n",
       "      <th></th>\n",
       "      <th></th>\n",
       "      <th></th>\n",
       "      <th></th>\n",
       "      <th></th>\n",
       "    </tr>\n",
       "  </thead>\n",
       "  <tbody>\n",
       "    <tr>\n",
       "      <th>2008-03-03</th>\n",
       "      <td>14</td>\n",
       "      <td>0</td>\n",
       "      <td>2</td>\n",
       "      <td>1.0</td>\n",
       "      <td>4</td>\n",
       "      <td>0</td>\n",
       "      <td>1</td>\n",
       "      <td>5</td>\n",
       "      <td>1</td>\n",
       "      <td>0</td>\n",
       "      <td>37.751263</td>\n",
       "      <td>-122.426060</td>\n",
       "      <td>34748</td>\n",
       "      <td>368</td>\n",
       "      <td>97.0</td>\n",
       "      <td>1.0</td>\n",
       "      <td>1.0</td>\n",
       "      <td>175.0</td>\n",
       "    </tr>\n",
       "    <tr>\n",
       "      <th>2008-06-27</th>\n",
       "      <td>10</td>\n",
       "      <td>0</td>\n",
       "      <td>6</td>\n",
       "      <td>2.0</td>\n",
       "      <td>4</td>\n",
       "      <td>2</td>\n",
       "      <td>1</td>\n",
       "      <td>3</td>\n",
       "      <td>1</td>\n",
       "      <td>0</td>\n",
       "      <td>33.982095</td>\n",
       "      <td>-118.384935</td>\n",
       "      <td>3289</td>\n",
       "      <td>127</td>\n",
       "      <td>80.0</td>\n",
       "      <td>2.0</td>\n",
       "      <td>3.0</td>\n",
       "      <td>122.0</td>\n",
       "    </tr>\n",
       "    <tr>\n",
       "      <th>2008-07-31</th>\n",
       "      <td>0</td>\n",
       "      <td>0</td>\n",
       "      <td>2</td>\n",
       "      <td>1.0</td>\n",
       "      <td>4</td>\n",
       "      <td>2</td>\n",
       "      <td>1</td>\n",
       "      <td>3</td>\n",
       "      <td>1</td>\n",
       "      <td>0</td>\n",
       "      <td>34.071556</td>\n",
       "      <td>-118.350786</td>\n",
       "      <td>31356</td>\n",
       "      <td>330</td>\n",
       "      <td>100.0</td>\n",
       "      <td>1.0</td>\n",
       "      <td>1.0</td>\n",
       "      <td>120.0</td>\n",
       "    </tr>\n",
       "    <tr>\n",
       "      <th>2008-08-16</th>\n",
       "      <td>20</td>\n",
       "      <td>0</td>\n",
       "      <td>10</td>\n",
       "      <td>1.0</td>\n",
       "      <td>4</td>\n",
       "      <td>2</td>\n",
       "      <td>1</td>\n",
       "      <td>1</td>\n",
       "      <td>1</td>\n",
       "      <td>0</td>\n",
       "      <td>41.797182</td>\n",
       "      <td>-87.593787</td>\n",
       "      <td>2281</td>\n",
       "      <td>252</td>\n",
       "      <td>71.0</td>\n",
       "      <td>4.0</td>\n",
       "      <td>4.0</td>\n",
       "      <td>150.0</td>\n",
       "    </tr>\n",
       "    <tr>\n",
       "      <th>2008-08-16</th>\n",
       "      <td>20</td>\n",
       "      <td>1</td>\n",
       "      <td>2</td>\n",
       "      <td>1.0</td>\n",
       "      <td>4</td>\n",
       "      <td>1</td>\n",
       "      <td>1</td>\n",
       "      <td>1</td>\n",
       "      <td>1</td>\n",
       "      <td>0</td>\n",
       "      <td>41.797085</td>\n",
       "      <td>-87.591949</td>\n",
       "      <td>1953</td>\n",
       "      <td>252</td>\n",
       "      <td>83.0</td>\n",
       "      <td>1.0</td>\n",
       "      <td>1.0</td>\n",
       "      <td>35.0</td>\n",
       "    </tr>\n",
       "  </tbody>\n",
       "</table>\n",
       "</div>"
      ],
      "text/plain": [
       "            property_type  room_type  accommodates  bathrooms  bed_type  \\\n",
       "host_since                                                                \n",
       "2008-03-03             14          0             2        1.0         4   \n",
       "2008-06-27             10          0             6        2.0         4   \n",
       "2008-07-31              0          0             2        1.0         4   \n",
       "2008-08-16             20          0            10        1.0         4   \n",
       "2008-08-16             20          1             2        1.0         4   \n",
       "\n",
       "            cancellation_policy  cleaning_fee  city  host_identity_verified  \\\n",
       "host_since                                                                    \n",
       "2008-03-03                    0             1     5                       1   \n",
       "2008-06-27                    2             1     3                       1   \n",
       "2008-07-31                    2             1     3                       1   \n",
       "2008-08-16                    2             1     1                       1   \n",
       "2008-08-16                    1             1     1                       1   \n",
       "\n",
       "            instant_bookable   latitude   longitude   name  neighbourhood  \\\n",
       "host_since                                                                  \n",
       "2008-03-03                 0  37.751263 -122.426060  34748            368   \n",
       "2008-06-27                 0  33.982095 -118.384935   3289            127   \n",
       "2008-07-31                 0  34.071556 -118.350786  31356            330   \n",
       "2008-08-16                 0  41.797182  -87.593787   2281            252   \n",
       "2008-08-16                 0  41.797085  -87.591949   1953            252   \n",
       "\n",
       "            review_scores_rating  bedrooms  beds  price  \n",
       "host_since                                               \n",
       "2008-03-03                  97.0       1.0   1.0  175.0  \n",
       "2008-06-27                  80.0       2.0   3.0  122.0  \n",
       "2008-07-31                 100.0       1.0   1.0  120.0  \n",
       "2008-08-16                  71.0       4.0   4.0  150.0  \n",
       "2008-08-16                  83.0       1.0   1.0   35.0  "
      ]
     },
     "execution_count": 5,
     "metadata": {},
     "output_type": "execute_result"
    }
   ],
   "source": [
    "df.head()"
   ]
  },
  {
   "cell_type": "code",
   "execution_count": 6,
   "id": "6f7794eb-cac5-4110-94c7-afe3a7d70880",
   "metadata": {},
   "outputs": [
    {
     "data": {
      "text/plain": [
       "(38502, 18)"
      ]
     },
     "execution_count": 6,
     "metadata": {},
     "output_type": "execute_result"
    }
   ],
   "source": [
    "df.shape"
   ]
  },
  {
   "cell_type": "code",
   "execution_count": 7,
   "id": "50ce3b36-3b14-4d7c-a4ff-a51c3cf72d96",
   "metadata": {},
   "outputs": [],
   "source": [
    "# Splitting data into target and feature matrix\n",
    "target = 'price'\n",
    "X = df.drop(columns=target)\n",
    "y = df[target]"
   ]
  },
  {
   "cell_type": "code",
   "execution_count": 8,
   "id": "e889e100-f4d9-46eb-8f8c-7bd30acac6f6",
   "metadata": {},
   "outputs": [],
   "source": [
    "# Sanity Check\n",
    "assert len(X) == len(y)"
   ]
  },
  {
   "cell_type": "code",
   "execution_count": 9,
   "id": "55d16efc-da3d-4ecf-ad1d-3b797886eef2",
   "metadata": {},
   "outputs": [
    {
     "data": {
      "text/plain": [
       "property_type               int64\n",
       "room_type                   int64\n",
       "accommodates                int64\n",
       "bathrooms                 float64\n",
       "bed_type                    int64\n",
       "cancellation_policy         int64\n",
       "cleaning_fee                int64\n",
       "city                        int64\n",
       "host_identity_verified      int64\n",
       "instant_bookable            int64\n",
       "latitude                  float64\n",
       "longitude                 float64\n",
       "name                        int64\n",
       "neighbourhood               int64\n",
       "review_scores_rating      float64\n",
       "bedrooms                  float64\n",
       "beds                      float64\n",
       "dtype: object"
      ]
     },
     "execution_count": 9,
     "metadata": {},
     "output_type": "execute_result"
    }
   ],
   "source": [
    "X.dtypes\n",
    "# Need to convert a lot of these 'objects' into ints"
   ]
  },
  {
   "cell_type": "code",
   "execution_count": 10,
   "id": "7715d3d9-6451-4b10-a22e-688b50ea77b7",
   "metadata": {},
   "outputs": [],
   "source": [
    "# Standardizating data\n",
    "X_scaled = StandardScaler().fit_transform(X)"
   ]
  },
  {
   "cell_type": "code",
   "execution_count": 11,
   "id": "92784cf7-3b4f-4ac7-9267-cf5e0d311d26",
   "metadata": {},
   "outputs": [],
   "source": [
    "X_train, X_test, y_train, y_test = train_test_split(X, y, test_size=0.4, random_state=42)"
   ]
  },
  {
   "cell_type": "code",
   "execution_count": 12,
   "id": "c6307411-d6fe-4ec9-8c9d-c01b1a40a6bc",
   "metadata": {},
   "outputs": [],
   "source": [
    "X_test, X_val, y_test, y_val = train_test_split(X_test, y_test, test_size=0.38, random_state=42)"
   ]
  },
  {
   "cell_type": "code",
   "execution_count": 13,
   "id": "7fa14118-71d6-4cb6-b2f0-cfc80bae255e",
   "metadata": {},
   "outputs": [
    {
     "data": {
      "text/plain": [
       "True"
      ]
     },
     "execution_count": 13,
     "metadata": {},
     "output_type": "execute_result"
    }
   ],
   "source": [
    "# Sanity Checks\n",
    "len(X_train) == len(y_train)\n",
    "len(X_val) == len(y_val)\n",
    "len(X_test) == len(y_test)"
   ]
  },
  {
   "cell_type": "code",
   "execution_count": 14,
   "id": "8440e653-24b7-4f02-afaf-02b77f6b6960",
   "metadata": {},
   "outputs": [
    {
     "name": "stdout",
     "output_type": "stream",
     "text": [
      "Number of Rows for Training Set:  23101\n",
      "Number of Rows for Validation Set:  5853\n",
      "Number of Rows for Testing Set:  9548\n"
     ]
    }
   ],
   "source": [
    "print(\"Number of Rows for Training Set: \", len(X_train))\n",
    "print(\"Number of Rows for Validation Set: \", len(X_val))\n",
    "print(\"Number of Rows for Testing Set: \", len(X_test))\n",
    "# The validation set is smaller than the testing set. This is why I have the second train_test_split in\n",
    "# an odd arrangement, had to make sure val was smaller than test"
   ]
  },
  {
   "cell_type": "code",
   "execution_count": 15,
   "id": "a223ce59-d73e-4c25-adee-733753829e0c",
   "metadata": {},
   "outputs": [
    {
     "name": "stdout",
     "output_type": "stream",
     "text": [
      "Baseline MAE: 80%\n"
     ]
    }
   ],
   "source": [
    "# Regression Baseline\n",
    "y_pred = [y_train.mean()] * len(y_train)\n",
    "\n",
    "baseline_mae = mean_absolute_error(y_train, y_pred)\n",
    "print('Baseline MAE:', \"%.0f%%\" % (baseline_mae))"
   ]
  },
  {
   "cell_type": "markdown",
   "id": "d65c661a-7d3c-4561-9763-797e4960f212",
   "metadata": {},
   "source": [
    "Seems that even without amenities or zipcode our model manages a baseline MAE of 80%. Hope this doesn't end with >=95%. NNs tend to overfit after all."
   ]
  },
  {
   "cell_type": "markdown",
   "id": "16fa596d-51da-4013-9d04-8af3563b2b1c",
   "metadata": {},
   "source": [
    "## Building Our Model"
   ]
  },
  {
   "cell_type": "code",
   "execution_count": 16,
   "id": "87f898e2-488a-41fd-8835-9f93e7ee505c",
   "metadata": {},
   "outputs": [],
   "source": [
    "# get dim of image row vectors and save to imput_dim\n",
    "imput_dim = X.shape[1]"
   ]
  },
  {
   "cell_type": "code",
   "execution_count": 24,
   "id": "51e716f0-a4cc-495d-b411-ba53648e9661",
   "metadata": {},
   "outputs": [],
   "source": [
    "def build_regression_model(hp):\n",
    "    \n",
    "    \"\"\"\n",
    "    Returns a complied keras model ready for keras-tuner gridsearch algorithms \n",
    "    \"\"\"\n",
    "    \n",
    "    model = Sequential()\n",
    "    \n",
    "    # 1st hidden layer\n",
    "    model.add(Dense(input_dim=imput_dim,\n",
    "                    units=hp.get('units'),\n",
    "                    activation=hp.get(\"activation\")))\n",
    "    \n",
    "    # 2nd hidden layer \n",
    "    model.add(Dense(units=hp.get('units'),\n",
    "                    activation=hp.get(\"activation\")))\n",
    "    \n",
    "    # 2nd hidden layer \n",
    "    model.add(Dense(units=hp.get('units'),\n",
    "                    activation=hp.get(\"activation\")))\n",
    "    \n",
    "    # output layer\n",
    "    model.add(Dense(1, activation='relu'))\n",
    "    \n",
    "    model.compile(\n",
    "        optimizer=tf.keras.optimizers.RMSprop(hp.get('learning_rate')),\n",
    "        loss='mse',\n",
    "        metrics=['mae'])\n",
    "    \n",
    "    return model"
   ]
  },
  {
   "cell_type": "code",
   "execution_count": 26,
   "id": "7dc9550f-8d2a-4d41-bd01-4d30fb244687",
   "metadata": {},
   "outputs": [
    {
     "data": {
      "text/plain": [
       "'linear'"
      ]
     },
     "execution_count": 26,
     "metadata": {},
     "output_type": "execute_result"
    }
   ],
   "source": [
    "# build out our hyperparameter dictionary \n",
    "hp = HyperParameters()\n",
    "hp.Int('units', min_value=32, max_value=512, step=32)\n",
    "hp.Choice('learning_rate',values=[1e-1, 1e-2, 1e-3])\n",
    "hp.Choice('activation',values=[\"linear\", \"relu\"])"
   ]
  },
  {
   "cell_type": "code",
   "execution_count": 27,
   "id": "fdbcd290-e755-4479-9322-1586615d0ab5",
   "metadata": {},
   "outputs": [],
   "source": [
    "n_unique_hparam_combos = len(range(32,512+32, 32)) * 3 *2\n",
    "n_param_combos_to_sample = n_unique_hparam_combos * .25"
   ]
  },
  {
   "cell_type": "code",
   "execution_count": 33,
   "id": "d77690ef-c695-4081-a0c0-7f8f31444d4f",
   "metadata": {},
   "outputs": [],
   "source": [
    "random_tuner = RandomSearch(\n",
    "            build_regression_model,\n",
    "            objective='val_mae',\n",
    "            max_trials=n_param_combos_to_sample, # number of times to sample the parameter set and build a model \n",
    "            seed=1234,\n",
    "            hyperparameters=hp, # pass in our hyperparameter dictionary\n",
    "            directory='./keras-tuner-trial',\n",
    "            project_name='random_search')"
   ]
  },
  {
   "cell_type": "code",
   "execution_count": 34,
   "id": "7667eded-e499-4877-9248-0595c66eb937",
   "metadata": {},
   "outputs": [
    {
     "name": "stdout",
     "output_type": "stream",
     "text": [
      "Trial 24 Complete [00h 00m 05s]\n",
      "val_mae: 145.39039611816406\n",
      "\n",
      "Best val_mae So Far: 76.60479736328125\n",
      "Total elapsed time: 00h 02m 34s\n",
      "INFO:tensorflow:Oracle triggered exit\n"
     ]
    }
   ],
   "source": [
    "# take note of Total elapsed time in print out\n",
    "random_tuner.search(X_train,\n",
    "                    y_train,\n",
    "                    epochs=3,\n",
    "                    validation_data=(X_val, y_val))"
   ]
  },
  {
   "cell_type": "code",
   "execution_count": 35,
   "id": "8fd32a49-5680-41da-a859-2d430d35dd9c",
   "metadata": {},
   "outputs": [
    {
     "name": "stdout",
     "output_type": "stream",
     "text": [
      "Results summary\n",
      "Results in ./keras-tuner-trial/random_search\n",
      "Showing 10 best trials\n",
      "Objective(name='val_mae', direction='min')\n",
      "Trial summary\n",
      "Hyperparameters:\n",
      "units: 448\n",
      "learning_rate: 0.001\n",
      "activation: relu\n",
      "Score: 76.60479736328125\n",
      "Trial summary\n",
      "Hyperparameters:\n",
      "units: 416\n",
      "learning_rate: 0.001\n",
      "activation: relu\n",
      "Score: 91.08583068847656\n",
      "Trial summary\n",
      "Hyperparameters:\n",
      "units: 480\n",
      "learning_rate: 0.001\n",
      "activation: relu\n",
      "Score: 145.39039611816406\n",
      "Trial summary\n",
      "Hyperparameters:\n",
      "units: 96\n",
      "learning_rate: 0.1\n",
      "activation: linear\n",
      "Score: 145.39039611816406\n",
      "Trial summary\n",
      "Hyperparameters:\n",
      "units: 352\n",
      "learning_rate: 0.001\n",
      "activation: linear\n",
      "Score: 145.39039611816406\n",
      "Trial summary\n",
      "Hyperparameters:\n",
      "units: 384\n",
      "learning_rate: 0.01\n",
      "activation: linear\n",
      "Score: 145.39039611816406\n",
      "Trial summary\n",
      "Hyperparameters:\n",
      "units: 288\n",
      "learning_rate: 0.1\n",
      "activation: linear\n",
      "Score: 145.39039611816406\n",
      "Trial summary\n",
      "Hyperparameters:\n",
      "units: 224\n",
      "learning_rate: 0.001\n",
      "activation: relu\n",
      "Score: 145.39039611816406\n",
      "Trial summary\n",
      "Hyperparameters:\n",
      "units: 96\n",
      "learning_rate: 0.01\n",
      "activation: linear\n",
      "Score: 145.39039611816406\n",
      "Trial summary\n",
      "Hyperparameters:\n",
      "units: 64\n",
      "learning_rate: 0.1\n",
      "activation: linear\n",
      "Score: 145.39039611816406\n"
     ]
    }
   ],
   "source": [
    "# identify the best score and hyperparamter (should be at the top since scores are ranked)\n",
    "random_tuner.results_summary()"
   ]
  },
  {
   "cell_type": "markdown",
   "id": "3892e6bd-08c0-4517-9c58-8e6e8beef469",
   "metadata": {},
   "source": [
    "# Trial summary\n",
    "\n",
    "\n",
    "## Hyperparameters:\n",
    "\n",
    "*units:* **416**\n",
    "\n",
    "*learning_rate:* **0.001**\n",
    "\n",
    "*activation:* **relu**\n",
    "\n",
    "---\n",
    "*Score:* **91.08583068847656**"
   ]
  },
  {
   "cell_type": "code",
   "execution_count": 51,
   "id": "2c4db6f3-ca24-4229-8cc8-3a0fc13057fb",
   "metadata": {},
   "outputs": [],
   "source": [
    "## Plugging in best params\n",
    "\n",
    "# Instantiating our model's class architecture\n",
    "model = Sequential()\n",
    "    \n",
    "# hidden layer\n",
    "model.add(Dense(10,\n",
    "                input_dim=imput_dim,  # Input layer\n",
    "                activation='relu'))\n",
    "\n",
    "# 2nd hidden layer\n",
    "model.add(Dense(416, activation='relu'))\n",
    "    \n",
    "# output layer\n",
    "model.add(Dense(1,\n",
    "                activation='relu'))\n",
    "\n",
    "# Assigning learning rate to RMSprop optimizer\n",
    "opt = tf.keras.optimizers.RMSprop(learning_rate=0.001)\n",
    "\n",
    "# compiling our model architecture with loss function & corresponding metric\n",
    "model.compile(optimizer=opt,\n",
    "              loss='mse',\n",
    "              metrics=['mae'])"
   ]
  },
  {
   "cell_type": "code",
   "execution_count": 52,
   "id": "36f16f30-bd59-42f1-bdc4-fa6519e97c4f",
   "metadata": {},
   "outputs": [
    {
     "name": "stdout",
     "output_type": "stream",
     "text": [
      "Model: \"sequential_2\"\n",
      "_________________________________________________________________\n",
      "Layer (type)                 Output Shape              Param #   \n",
      "=================================================================\n",
      "dense_6 (Dense)              (None, 10)                180       \n",
      "_________________________________________________________________\n",
      "dense_7 (Dense)              (None, 416)               4576      \n",
      "_________________________________________________________________\n",
      "dense_8 (Dense)              (None, 1)                 417       \n",
      "=================================================================\n",
      "Total params: 5,173\n",
      "Trainable params: 5,173\n",
      "Non-trainable params: 0\n",
      "_________________________________________________________________\n"
     ]
    }
   ],
   "source": [
    "model.summary()"
   ]
  },
  {
   "cell_type": "code",
   "execution_count": 25,
   "id": "52d833df-1480-4c88-bbde-0339ea9e181a",
   "metadata": {},
   "outputs": [],
   "source": [
    "# Use TensorBoard if you're running this on Colab\n",
    "\n",
    "# %load_ext tensorboard\n",
    "\n",
    "# import os\n",
    "# import datetime\n",
    "\n",
    "# logdir = os.path.join(\"logs\", datetime.datetime.now().strftime(\"%Y%m%d-%H%M%S\"))\n",
    "# tensorboard_callback = tf.keras.callbacks.TensorBoard(logdir, histogram_freq=1)"
   ]
  },
  {
   "cell_type": "code",
   "execution_count": 39,
   "id": "d663fee3-3269-4924-9590-f650c9a6ad85",
   "metadata": {},
   "outputs": [],
   "source": [
    "# Readying our EarlyStop callback\n",
    "stop_callback = EarlyStopping(monitor='val_loss', min_delta=0.001, patience=3, mode=\"min\")"
   ]
  },
  {
   "cell_type": "code",
   "execution_count": 64,
   "id": "84c2ef47-852d-41c4-8bb7-744a21397daf",
   "metadata": {},
   "outputs": [
    {
     "name": "stdout",
     "output_type": "stream",
     "text": [
      "Epoch 1/20\n",
      "551/551 [==============================] - 1s 2ms/step - loss: 9524.4912 - mae: 57.1750 - val_loss: 10488.3252 - val_mae: 58.0478\n",
      "Epoch 2/20\n",
      "551/551 [==============================] - 1s 1ms/step - loss: 9462.7021 - mae: 56.9452 - val_loss: 9150.2051 - val_mae: 54.9599\n",
      "Epoch 3/20\n",
      "551/551 [==============================] - 1s 1ms/step - loss: 9464.4160 - mae: 57.0191 - val_loss: 17985.2891 - val_mae: 104.5625\n",
      "Epoch 4/20\n",
      "551/551 [==============================] - 1s 1ms/step - loss: 9448.7754 - mae: 57.0243 - val_loss: 10705.4658 - val_mae: 56.7218\n",
      "Epoch 5/20\n",
      "551/551 [==============================] - 1s 1ms/step - loss: 9410.0068 - mae: 56.9523 - val_loss: 48503.8906 - val_mae: 183.2717\n",
      "INFO:tensorflow:Assets written to: saved_model/my_model/assets\n"
     ]
    }
   ],
   "source": [
    "# Fitting model\n",
    "model.fit(X_train,\n",
    "          y_train,\n",
    "          batch_size=42,\n",
    "          epochs=20,\n",
    "          validation_data=(X_val, y_val),\n",
    "          callbacks=[stop_callback])\n",
    "\n",
    "# Save the entire model as a SavedModel.\n",
    "!mkdir -p saved_model\n",
    "model.save('saved_model/my_model')"
   ]
  },
  {
   "cell_type": "code",
   "execution_count": 28,
   "id": "165fd644-9260-4e50-b63a-c65ddcffd27a",
   "metadata": {},
   "outputs": [],
   "source": [
    "# %load_ext tensorboard\n",
    "# %tensorboard --logdir logs"
   ]
  },
  {
   "cell_type": "code",
   "execution_count": 65,
   "id": "517292f1-e946-4682-b258-24dacc0f9215",
   "metadata": {},
   "outputs": [
    {
     "data": {
      "text/plain": [
       "array([[332.69308],\n",
       "       [565.41693],\n",
       "       [ 79.00336],\n",
       "       ...,\n",
       "       [262.7436 ],\n",
       "       [478.9129 ],\n",
       "       [232.4342 ]], dtype=float32)"
      ]
     },
     "execution_count": 65,
     "metadata": {},
     "output_type": "execute_result"
    }
   ],
   "source": [
    "# Evaluating model's predictive power\n",
    "predictions = model.predict(X_test, batch_size=32)\n",
    "predictions"
   ]
  },
  {
   "cell_type": "code",
   "execution_count": 66,
   "id": "11041af6-5ba1-4ef5-8721-cc7b61c5929f",
   "metadata": {},
   "outputs": [
    {
     "data": {
      "text/plain": [
       "host_since\n",
       "2017-01-18    150.0\n",
       "2014-08-08    225.0\n",
       "2012-06-06     40.0\n",
       "2011-12-26    100.0\n",
       "2014-04-23     90.0\n",
       "              ...  \n",
       "2013-07-25    150.0\n",
       "2013-10-12     41.0\n",
       "2016-05-29     60.0\n",
       "2014-10-02    140.0\n",
       "2013-12-25    110.0\n",
       "Name: price, Length: 9548, dtype: float64"
      ]
     },
     "execution_count": 66,
     "metadata": {},
     "output_type": "execute_result"
    }
   ],
   "source": [
    "# Actual prices\n",
    "y_test"
   ]
  },
  {
   "cell_type": "markdown",
   "id": "60cd4805-ef0c-458f-bbb5-3959cf741780",
   "metadata": {},
   "source": [
    "Not a good model. Going to try a GridSearchCV & BayesianOptimization next. This will have to suffice considering its 4:27 AM."
   ]
  },
  {
   "cell_type": "code",
   "execution_count": null,
   "id": "2951641e-52a8-4330-b7ad-7aa53d146a4c",
   "metadata": {},
   "outputs": [],
   "source": []
  }
 ],
 "metadata": {
  "environment": {
   "name": "common-cpu.m69",
   "type": "gcloud",
   "uri": "gcr.io/deeplearning-platform-release/base-cpu:m69"
  },
  "kernelspec": {
   "display_name": "Python [conda env:root] *",
   "language": "python",
   "name": "conda-root-py"
  },
  "language_info": {
   "codemirror_mode": {
    "name": "ipython",
    "version": 3
   },
   "file_extension": ".py",
   "mimetype": "text/x-python",
   "name": "python",
   "nbconvert_exporter": "python",
   "pygments_lexer": "ipython3",
   "version": "3.7.10"
  },
  "widgets": {
   "application/vnd.jupyter.widget-state+json": {
    "state": {},
    "version_major": 2,
    "version_minor": 0
   }
  }
 },
 "nbformat": 4,
 "nbformat_minor": 5
}
