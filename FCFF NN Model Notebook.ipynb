{
 "cells": [
  {
   "cell_type": "code",
   "execution_count": 3,
   "id": "463fc47d-002c-4be0-aa79-5c135c1e9f92",
   "metadata": {},
   "outputs": [],
   "source": [
    "# Importing Libraries\n",
    "import pandas as pd\n",
    "from pandas_profiling import ProfileReport\n",
    "import matplotlib.pyplot as plt\n",
    "%matplotlib inline\n",
    "import seaborn as sns\n",
    "import plotly.express as px\n",
    "import numpy as np\n",
    "import pandarallel\n",
    "from sklearn.preprocessing import StandardScaler, Normalizer, Binarizer\n",
    "import keras\n",
    "import tensorflow as tf\n",
    "from tensorflow.keras.models import Sequential\n",
    "from tensorflow.keras.layers import Dense\n",
    "from kerastuner.tuners import RandomSearch, Sklearn\n",
    "from sklearn.model_selection import train_test_split\n",
    "from kerastuner.engine.hyperparameters import HyperParameters\n",
    "from keras.activations import relu\n",
    "from keras.optimizers import RMSprop\n",
    "import math"
   ]
  },
  {
   "cell_type": "code",
   "execution_count": 4,
   "id": "0a1d1332-cbba-4a15-9d81-078f61d41449",
   "metadata": {},
   "outputs": [],
   "source": [
    "filename = \"./EDA Notebook.ipynb.csv\""
   ]
  },
  {
   "cell_type": "code",
   "execution_count": 5,
   "id": "e9512f6f-2e10-407c-ba8d-0052a8cb865e",
   "metadata": {},
   "outputs": [],
   "source": [
    "df = pd.read_csv(filename)"
   ]
  },
  {
   "cell_type": "code",
   "execution_count": 6,
   "id": "a46b3b77-caa2-45e5-ab35-9336ee084223",
   "metadata": {
    "tags": []
   },
   "outputs": [
    {
     "data": {
      "text/html": [
       "<div>\n",
       "<style scoped>\n",
       "    .dataframe tbody tr th:only-of-type {\n",
       "        vertical-align: middle;\n",
       "    }\n",
       "\n",
       "    .dataframe tbody tr th {\n",
       "        vertical-align: top;\n",
       "    }\n",
       "\n",
       "    .dataframe thead th {\n",
       "        text-align: right;\n",
       "    }\n",
       "</style>\n",
       "<table border=\"1\" class=\"dataframe\">\n",
       "  <thead>\n",
       "    <tr style=\"text-align: right;\">\n",
       "      <th></th>\n",
       "      <th>id</th>\n",
       "      <th>property_type</th>\n",
       "      <th>room_type</th>\n",
       "      <th>accommodates</th>\n",
       "      <th>bathrooms</th>\n",
       "      <th>bed_type</th>\n",
       "      <th>cancellation_policy</th>\n",
       "      <th>cleaning_fee</th>\n",
       "      <th>city</th>\n",
       "      <th>host_identity_verified</th>\n",
       "      <th>instant_bookable</th>\n",
       "      <th>latitude</th>\n",
       "      <th>longitude</th>\n",
       "      <th>review_scores_rating</th>\n",
       "      <th>bedrooms</th>\n",
       "      <th>beds</th>\n",
       "      <th>price</th>\n",
       "    </tr>\n",
       "  </thead>\n",
       "  <tbody>\n",
       "    <tr>\n",
       "      <th>0</th>\n",
       "      <td>21230903</td>\n",
       "      <td>Apartment</td>\n",
       "      <td>Entire home/apt</td>\n",
       "      <td>4</td>\n",
       "      <td>2.0</td>\n",
       "      <td>Real Bed</td>\n",
       "      <td>strict</td>\n",
       "      <td>1</td>\n",
       "      <td>LA</td>\n",
       "      <td>t</td>\n",
       "      <td>f</td>\n",
       "      <td>34.100927</td>\n",
       "      <td>-118.346146</td>\n",
       "      <td>97.0</td>\n",
       "      <td>2.0</td>\n",
       "      <td>2.0</td>\n",
       "      <td>350.0</td>\n",
       "    </tr>\n",
       "    <tr>\n",
       "      <th>1</th>\n",
       "      <td>21228356</td>\n",
       "      <td>House</td>\n",
       "      <td>Private room</td>\n",
       "      <td>2</td>\n",
       "      <td>1.0</td>\n",
       "      <td>Real Bed</td>\n",
       "      <td>strict</td>\n",
       "      <td>0</td>\n",
       "      <td>NYC</td>\n",
       "      <td>t</td>\n",
       "      <td>t</td>\n",
       "      <td>40.698569</td>\n",
       "      <td>-73.742247</td>\n",
       "      <td>91.0</td>\n",
       "      <td>1.0</td>\n",
       "      <td>2.0</td>\n",
       "      <td>47.0</td>\n",
       "    </tr>\n",
       "    <tr>\n",
       "      <th>2</th>\n",
       "      <td>21227461</td>\n",
       "      <td>House</td>\n",
       "      <td>Private room</td>\n",
       "      <td>2</td>\n",
       "      <td>0.0</td>\n",
       "      <td>Real Bed</td>\n",
       "      <td>strict</td>\n",
       "      <td>1</td>\n",
       "      <td>LA</td>\n",
       "      <td>t</td>\n",
       "      <td>f</td>\n",
       "      <td>34.085830</td>\n",
       "      <td>-118.130391</td>\n",
       "      <td>88.0</td>\n",
       "      <td>1.0</td>\n",
       "      <td>1.0</td>\n",
       "      <td>34.0</td>\n",
       "    </tr>\n",
       "    <tr>\n",
       "      <th>3</th>\n",
       "      <td>21218973</td>\n",
       "      <td>Apartment</td>\n",
       "      <td>Private room</td>\n",
       "      <td>2</td>\n",
       "      <td>1.0</td>\n",
       "      <td>Real Bed</td>\n",
       "      <td>moderate</td>\n",
       "      <td>1</td>\n",
       "      <td>NYC</td>\n",
       "      <td>t</td>\n",
       "      <td>t</td>\n",
       "      <td>40.825218</td>\n",
       "      <td>-73.950479</td>\n",
       "      <td>100.0</td>\n",
       "      <td>1.0</td>\n",
       "      <td>1.0</td>\n",
       "      <td>55.0</td>\n",
       "    </tr>\n",
       "    <tr>\n",
       "      <th>4</th>\n",
       "      <td>21215451</td>\n",
       "      <td>House</td>\n",
       "      <td>Entire home/apt</td>\n",
       "      <td>3</td>\n",
       "      <td>1.0</td>\n",
       "      <td>Real Bed</td>\n",
       "      <td>flexible</td>\n",
       "      <td>1</td>\n",
       "      <td>Chicago</td>\n",
       "      <td>t</td>\n",
       "      <td>f</td>\n",
       "      <td>41.959518</td>\n",
       "      <td>-87.683155</td>\n",
       "      <td>100.0</td>\n",
       "      <td>1.0</td>\n",
       "      <td>2.0</td>\n",
       "      <td>130.0</td>\n",
       "    </tr>\n",
       "  </tbody>\n",
       "</table>\n",
       "</div>"
      ],
      "text/plain": [
       "         id property_type        room_type  accommodates  bathrooms  bed_type  \\\n",
       "0  21230903     Apartment  Entire home/apt             4        2.0  Real Bed   \n",
       "1  21228356         House     Private room             2        1.0  Real Bed   \n",
       "2  21227461         House     Private room             2        0.0  Real Bed   \n",
       "3  21218973     Apartment     Private room             2        1.0  Real Bed   \n",
       "4  21215451         House  Entire home/apt             3        1.0  Real Bed   \n",
       "\n",
       "  cancellation_policy  cleaning_fee     city host_identity_verified  \\\n",
       "0              strict             1       LA                      t   \n",
       "1              strict             0      NYC                      t   \n",
       "2              strict             1       LA                      t   \n",
       "3            moderate             1      NYC                      t   \n",
       "4            flexible             1  Chicago                      t   \n",
       "\n",
       "  instant_bookable   latitude   longitude  review_scores_rating  bedrooms  \\\n",
       "0                f  34.100927 -118.346146                  97.0       2.0   \n",
       "1                t  40.698569  -73.742247                  91.0       1.0   \n",
       "2                f  34.085830 -118.130391                  88.0       1.0   \n",
       "3                t  40.825218  -73.950479                 100.0       1.0   \n",
       "4                f  41.959518  -87.683155                 100.0       1.0   \n",
       "\n",
       "   beds  price  \n",
       "0   2.0  350.0  \n",
       "1   2.0   47.0  \n",
       "2   1.0   34.0  \n",
       "3   1.0   55.0  \n",
       "4   2.0  130.0  "
      ]
     },
     "execution_count": 6,
     "metadata": {},
     "output_type": "execute_result"
    }
   ],
   "source": [
    "df.head()"
   ]
  },
  {
   "cell_type": "code",
   "execution_count": null,
   "id": "6f7794eb-cac5-4110-94c7-afe3a7d70880",
   "metadata": {},
   "outputs": [],
   "source": [
    "df.shape"
   ]
  },
  {
   "cell_type": "code",
   "execution_count": null,
   "id": "c1eee77c-2869-4536-b5f2-ba78c9a74200",
   "metadata": {},
   "outputs": [],
   "source": [
    "# Avoiding data leakage by dropping this here. Need to add this back into the EDA notebook and delete this\n",
    "df.drop(columns='log_price', inplace=True)"
   ]
  },
  {
   "cell_type": "code",
   "execution_count": null,
   "id": "2e6f4ba0-ce7b-4eb7-951c-e91af7399e29",
   "metadata": {},
   "outputs": [],
   "source": [
    "# Have to reset the index after importing CSV from EDA notebook. Indexes just don't carryover when \n",
    "# converted to output data\n",
    "df.set_index(\"id\", inplace=True)"
   ]
  },
  {
   "cell_type": "code",
   "execution_count": null,
   "id": "50ce3b36-3b14-4d7c-a4ff-a51c3cf72d96",
   "metadata": {},
   "outputs": [],
   "source": [
    "# Splitting data into target and feature matrix\n",
    "target = 'price'\n",
    "X = df.drop(columns=target)\n",
    "y = df[target]"
   ]
  },
  {
   "cell_type": "code",
   "execution_count": null,
   "id": "e889e100-f4d9-46eb-8f8c-7bd30acac6f6",
   "metadata": {},
   "outputs": [],
   "source": [
    "# Sanity Check\n",
    "assert len(X) == len(y)"
   ]
  },
  {
   "cell_type": "code",
   "execution_count": null,
   "id": "fb9a1097-c920-477f-8b39-f017d3a73a36",
   "metadata": {},
   "outputs": [],
   "source": [
    "X_train, X_test, y_train, y_test = train_test_split(X, y, test_size=0.2, random_state=42)"
   ]
  },
  {
   "cell_type": "markdown",
   "id": "16fa596d-51da-4013-9d04-8af3563b2b1c",
   "metadata": {},
   "source": [
    "## Building Our Model\n",
    "---\n",
    "- Without preprocessing this time around"
   ]
  },
  {
   "cell_type": "code",
   "execution_count": null,
   "id": "51e716f0-a4cc-495d-b411-ba53648e9661",
   "metadata": {},
   "outputs": [],
   "source": [
    "def build_regression_model(hp):\n",
    "    \n",
    "    \"\"\"\n",
    "    Returns a complied keras model ready for keras-tuner gridsearch algorithms \n",
    "    \"\"\"\n",
    "    \n",
    "    model = Sequential()\n",
    "    \n",
    "    # hidden layer\n",
    "    model.add(Dense(units=hp.get('units'),activation=hp.get(\"activation\")))\n",
    "    \n",
    "    # output layer\n",
    "    model.add(Dense(1, activation='relu'))\n",
    "    \n",
    "    model.compile(\n",
    "        optimizer=tf.keras.optimizers.RMSprop(hp.get('learning_rate')),\n",
    "        loss='mse',\n",
    "        metrics=['mae'])\n",
    "    \n",
    "    return model"
   ]
  },
  {
   "cell_type": "code",
   "execution_count": null,
   "id": "7dc9550f-8d2a-4d41-bd01-4d30fb244687",
   "metadata": {},
   "outputs": [],
   "source": [
    "# build out our hyperparameter dictionary \n",
    "hp = HyperParameters()\n",
    "hp.Int('units', min_value=32, max_value=512, step=32)\n",
    "hp.Choice('learning_rate',values=[1e-1, 1e-2, 1e-3])\n",
    "hp.Choice('activation',values=[\"relu\"])"
   ]
  },
  {
   "cell_type": "code",
   "execution_count": null,
   "id": "2248c0fe-b3c4-4005-952f-43d5689f409d",
   "metadata": {},
   "outputs": [],
   "source": [
    "X"
   ]
  },
  {
   "cell_type": "code",
   "execution_count": null,
   "id": "fdbcd290-e755-4479-9322-1586615d0ab5",
   "metadata": {},
   "outputs": [],
   "source": [
    "n_unique_hparam_combos = len(range(32,512+32, 32)) * 3 *2\n",
    "n_param_combos_to_sample = n_unique_hparam_combos * .25"
   ]
  },
  {
   "cell_type": "code",
   "execution_count": null,
   "id": "d77690ef-c695-4081-a0c0-7f8f31444d4f",
   "metadata": {},
   "outputs": [],
   "source": [
    "random_tuner = RandomSearch(\n",
    "            build_regression_model,\n",
    "            objective='val_accuracy',\n",
    "            max_trials=n_param_combos_to_sample, # number of times to sample the parameter set and build a model \n",
    "            seed=1234,\n",
    "            hyperparameters=hp, # pass in our hyperparameter dictionary\n",
    "            directory='./keras-tuner-trial',\n",
    "            project_name='random_search')"
   ]
  },
  {
   "cell_type": "code",
   "execution_count": null,
   "id": "7667eded-e499-4877-9248-0595c66eb937",
   "metadata": {},
   "outputs": [],
   "source": [
    "# take note of Total elapsed time in print out\n",
    "random_tuner.search(X_train,\n",
    "                    y_train,\n",
    "                    epochs=3,\n",
    "                    validation_data=(X_test, y_test))\n",
    "# Need to go back to EDA Notbeook and finish preprocessing data before I can do this\n",
    "# Can use this as reference: https://stackoverflow.com/questions/58636087/tensorflow-valueerror-failed-to-convert-a-numpy-array-to-a-tensor-unsupporte"
   ]
  },
  {
   "cell_type": "code",
   "execution_count": null,
   "id": "8fd32a49-5680-41da-a859-2d430d35dd9c",
   "metadata": {},
   "outputs": [],
   "source": []
  }
 ],
 "metadata": {
  "environment": {
   "name": "common-cpu.m69",
   "type": "gcloud",
   "uri": "gcr.io/deeplearning-platform-release/base-cpu:m69"
  },
  "kernelspec": {
   "display_name": "Python [conda env:root] *",
   "language": "python",
   "name": "conda-root-py"
  },
  "language_info": {
   "codemirror_mode": {
    "name": "ipython",
    "version": 3
   },
   "file_extension": ".py",
   "mimetype": "text/x-python",
   "name": "python",
   "nbconvert_exporter": "python",
   "pygments_lexer": "ipython3",
   "version": "3.7.10"
  },
  "widgets": {
   "application/vnd.jupyter.widget-state+json": {
    "state": {},
    "version_major": 2,
    "version_minor": 0
   }
  }
 },
 "nbformat": 4,
 "nbformat_minor": 5
}
